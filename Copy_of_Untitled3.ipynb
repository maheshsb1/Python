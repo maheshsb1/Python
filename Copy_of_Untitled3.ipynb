{
  "nbformat": 4,
  "nbformat_minor": 0,
  "metadata": {
    "colab": {
      "name": "Copy of Untitled3.ipynb",
      "provenance": [],
      "collapsed_sections": [],
      "authorship_tag": "ABX9TyNA6VsSiAEhFp+JP8PcZlDo",
      "include_colab_link": true
    },
    "kernelspec": {
      "name": "python3",
      "display_name": "Python 3"
    },
    "language_info": {
      "name": "python"
    }
  },
  "cells": [
    {
      "cell_type": "markdown",
      "metadata": {
        "id": "view-in-github",
        "colab_type": "text"
      },
      "source": [
        "<a href=\"https://colab.research.google.com/github/maheshsb1/Python/blob/Basics/Copy_of_Untitled3.ipynb\" target=\"_parent\"><img src=\"https://colab.research.google.com/assets/colab-badge.svg\" alt=\"Open In Colab\"/></a>"
      ]
    },
    {
      "cell_type": "code",
      "metadata": {
        "colab": {
          "base_uri": "https://localhost:8080/"
        },
        "id": "e7bg4XVYsAR_",
        "outputId": "b13d3c25-e613-4e26-b1e5-ef170f69a404"
      },
      "source": [
        "#String Inbuilt Function\n",
        "# 1.endswith\n",
        "var_str = \"Python Programming\"\n",
        "print(var_str.endswith('g'))\n",
        "print(var_str.endswith('g',0,15))\n",
        "print(var_str.endswith('g',0,18))#index_position,ele.2=(n-1)\n",
        "print(var_str.endswith('n',0,6))\n",
        "print(var_str.endswith('t',2,3))\n",
        "print(var_str.endswith('t',0,3))#alphabet should be in index positions range\n"
      ],
      "execution_count": null,
      "outputs": [
        {
          "output_type": "stream",
          "name": "stdout",
          "text": [
            "True\n",
            "False\n",
            "True\n",
            "True\n",
            "True\n",
            "True\n"
          ]
        }
      ]
    },
    {
      "cell_type": "code",
      "metadata": {
        "colab": {
          "base_uri": "https://localhost:8080/"
        },
        "id": "Yu_Vpno3wfjU",
        "outputId": "010f817c-8244-4a98-aa04-05f1b65e25a7"
      },
      "source": [
        "# 2.capitalize\n",
        "var_str = \"Python Programming\"\n",
        "print(var_str.capitalize())\n",
        "var_str = \"python programming\"\n",
        "print(var_str.capitalize())\n",
        "var_str = \"PyThON pROgramMiNG\"\n",
        "print(var_str.capitalize())"
      ],
      "execution_count": null,
      "outputs": [
        {
          "output_type": "stream",
          "name": "stdout",
          "text": [
            "Python programming\n",
            "Python programming\n",
            "Python programming\n"
          ]
        }
      ]
    },
    {
      "cell_type": "code",
      "metadata": {
        "colab": {
          "base_uri": "https://localhost:8080/"
        },
        "id": "MHg_dC60yL2d",
        "outputId": "54b1f75f-436b-45ca-9768-7d56faaa81fc"
      },
      "source": [
        "# 3.casefold\n",
        "var_str = \"Python Programming\"\n",
        "print(var_str.casefold())\n",
        "var_str = \"PYTHON pROGRAMMING\"\n",
        "print(var_str.casefold())\n",
        "var_str = \"PyThON PROgramMiNG\"\n",
        "print(var_str.casefold())"
      ],
      "execution_count": null,
      "outputs": [
        {
          "output_type": "stream",
          "name": "stdout",
          "text": [
            "python programming\n",
            "python programming\n",
            "python programming\n"
          ]
        }
      ]
    },
    {
      "cell_type": "code",
      "metadata": {
        "colab": {
          "base_uri": "https://localhost:8080/"
        },
        "id": "SA_apEPvy4RX",
        "outputId": "6c4fd769-ca57-4729-a5b4-7cb5fa08677a"
      },
      "source": [
        "# 4.center\n",
        "var_str = \"Python\"\n",
        "print(var_str.center(6))\n",
        "print(var_str.center(10))\n",
        "print(var_str.center(25))\n",
        "print(var_str.center(18,'*'))\n",
        "print(var_str.center(40,'$'))\n",
        "var_str = \"Python Programming\"\n",
        "print(var_str.center(27,'#'))"
      ],
      "execution_count": null,
      "outputs": [
        {
          "output_type": "stream",
          "name": "stdout",
          "text": [
            "Python\n",
            "  Python  \n",
            "          Python         \n",
            "******Python******\n",
            "$$$$$$$$$$$$$$$$$Python$$$$$$$$$$$$$$$$$\n",
            "#####Python Programming####\n"
          ]
        }
      ]
    },
    {
      "cell_type": "code",
      "metadata": {
        "colab": {
          "base_uri": "https://localhost:8080/"
        },
        "id": "BkyYHO-az7zb",
        "outputId": "f30c41f2-3e73-43c4-a1f5-3b4467278328"
      },
      "source": [
        "# 5.count\n",
        "var_str = \"Python Programming\"\n",
        "print(var_str.count('m'))\n",
        "print(var_str.count('p'))\n",
        "print(var_str.count('P'))#alphabet should be as it is what we showing in value\n",
        "var_str = \"Python programming\"\n",
        "print(var_str.count('p'))#here p of programming in small and p in python in capital\n",
        "print(var_str.count('y'))"
      ],
      "execution_count": null,
      "outputs": [
        {
          "output_type": "stream",
          "name": "stdout",
          "text": [
            "2\n",
            "0\n",
            "2\n",
            "1\n",
            "1\n"
          ]
        }
      ]
    },
    {
      "cell_type": "code",
      "metadata": {
        "colab": {
          "base_uri": "https://localhost:8080/"
        },
        "id": "y4TEWL9X2CDn",
        "outputId": "f202f8a1-dd10-4e0b-9cd7-55cdfb7ce07b"
      },
      "source": [
        "# 6.endcode\n",
        "var_str = \"Python Programming\"\n",
        "print(var_str.encode('utf-8'))\n",
        "print(var_str.encode('utf-16'))#use for encoding and decoding\n",
        "print(var_str.encode('utf-32'))"
      ],
      "execution_count": null,
      "outputs": [
        {
          "output_type": "stream",
          "name": "stdout",
          "text": [
            "b'Python Programming'\n",
            "b'\\xff\\xfeP\\x00y\\x00t\\x00h\\x00o\\x00n\\x00 \\x00P\\x00r\\x00o\\x00g\\x00r\\x00a\\x00m\\x00m\\x00i\\x00n\\x00g\\x00'\n",
            "b'\\xff\\xfe\\x00\\x00P\\x00\\x00\\x00y\\x00\\x00\\x00t\\x00\\x00\\x00h\\x00\\x00\\x00o\\x00\\x00\\x00n\\x00\\x00\\x00 \\x00\\x00\\x00P\\x00\\x00\\x00r\\x00\\x00\\x00o\\x00\\x00\\x00g\\x00\\x00\\x00r\\x00\\x00\\x00a\\x00\\x00\\x00m\\x00\\x00\\x00m\\x00\\x00\\x00i\\x00\\x00\\x00n\\x00\\x00\\x00g\\x00\\x00\\x00'\n"
          ]
        }
      ]
    },
    {
      "cell_type": "code",
      "metadata": {
        "colab": {
          "base_uri": "https://localhost:8080/"
        },
        "id": "FdteGAER3EI4",
        "outputId": "7a70607b-a579-4f06-c125-1b0962dc269d"
      },
      "source": [
        "# 7.expandtabs\n",
        "var_str = \"Python Programming\"\n",
        "print(var_str.expandtabs(tabsize=32))\n",
        "print(var_str.expandtabs(tabsize=2))"
      ],
      "execution_count": null,
      "outputs": [
        {
          "output_type": "stream",
          "name": "stdout",
          "text": [
            "Python Programming\n",
            "Python Programming\n"
          ]
        }
      ]
    },
    {
      "cell_type": "code",
      "metadata": {
        "colab": {
          "base_uri": "https://localhost:8080/"
        },
        "id": "4FDHWHz_4g-Z",
        "outputId": "d45608d3-99f8-4fc9-e922-a04fcd0649dc"
      },
      "source": [
        "# 8.find\n",
        "var_str = \"Python Programming\"\n",
        "print(var_str.find('g'))\n",
        "print(var_str.find('P'))\n",
        "print(var_str.find('z'))#alphabet which is not in veriable it shows o/p -1\n",
        "print(var_str.find('o'))#it find 1st alphabet only, not repeated "
      ],
      "execution_count": null,
      "outputs": [
        {
          "output_type": "stream",
          "name": "stdout",
          "text": [
            "10\n",
            "0\n",
            "-1\n",
            "4\n"
          ]
        }
      ]
    },
    {
      "cell_type": "code",
      "metadata": {
        "colab": {
          "base_uri": "https://localhost:8080/"
        },
        "id": "BWm9YKb05rSF",
        "outputId": "f9d3f89f-020a-4948-e3c3-a92744084494"
      },
      "source": [
        "# 9.format\n",
        "var_str = \"Python Programming\"\n",
        "print(var_str.format())\n",
        "var_str = \"python programming\"\n",
        "print(var_str.format())"
      ],
      "execution_count": null,
      "outputs": [
        {
          "output_type": "stream",
          "name": "stdout",
          "text": [
            "Python Programming\n",
            "python programming\n"
          ]
        }
      ]
    },
    {
      "cell_type": "code",
      "metadata": {
        "colab": {
          "base_uri": "https://localhost:8080/"
        },
        "id": "66R5aRMc6R-K",
        "outputId": "7666d90b-aa41-4482-f26e-13194a685a77"
      },
      "source": [
        "# 10.index\n",
        "var_str = \"Python Programming\"\n",
        "print(var_str.index('i'))\n",
        "print(var_str.index('m'))#shows indexind position, not for repeated "
      ],
      "execution_count": null,
      "outputs": [
        {
          "output_type": "stream",
          "name": "stdout",
          "text": [
            "15\n",
            "13\n"
          ]
        }
      ]
    },
    {
      "cell_type": "code",
      "metadata": {
        "colab": {
          "base_uri": "https://localhost:8080/"
        },
        "id": "6Amp4vqA6_F4",
        "outputId": "eecd26a4-4ccd-48b5-b400-ceb5f54d5061"
      },
      "source": [
        "# 11.isalnum \n",
        "var_str = \"Python Programming\"\n",
        "print(var_str.isalnum())\n",
        "var_str= \"12385\"\n",
        "print(var_str.isalnum())"
      ],
      "execution_count": null,
      "outputs": [
        {
          "output_type": "stream",
          "name": "stdout",
          "text": [
            "False\n",
            "True\n"
          ]
        }
      ]
    },
    {
      "cell_type": "code",
      "metadata": {
        "colab": {
          "base_uri": "https://localhost:8080/"
        },
        "id": "CuffnE1Q74Dj",
        "outputId": "ff40cdcc-c1a7-4edb-91f1-2037f24207ac"
      },
      "source": [
        "# 12.isalpha\n",
        "var_str= \"Python\"\n",
        "print(var_str.isalpha())\n",
        "var_str= \"12385\"\n",
        "print(var_str.isalpha())\n",
        "var_str = 'Python P9r8o7g6r5a4m3m2i1n0g'\n",
        "print(var_str.isalpha())"
      ],
      "execution_count": null,
      "outputs": [
        {
          "output_type": "stream",
          "name": "stdout",
          "text": [
            "True\n",
            "False\n",
            "False\n"
          ]
        }
      ]
    },
    {
      "cell_type": "code",
      "metadata": {
        "colab": {
          "base_uri": "https://localhost:8080/"
        },
        "id": "uquj39wz8rTX",
        "outputId": "d12e7371-d9a3-4783-8671-10d6ed188c8f"
      },
      "source": [
        "# 13.isascii\n",
        "var_str= \"!@#%%^^\"\n",
        "print(var_str.isascii())"
      ],
      "execution_count": null,
      "outputs": [
        {
          "output_type": "stream",
          "name": "stdout",
          "text": [
            "True\n"
          ]
        }
      ]
    },
    {
      "cell_type": "code",
      "metadata": {
        "colab": {
          "base_uri": "https://localhost:8080/"
        },
        "id": "y-h2YJ03-LY1",
        "outputId": "c6f1c4e5-afcb-49f9-e8b9-778eb1f1c0c2"
      },
      "source": [
        "# 14.isdecimal\n",
        "var_str= \"12385\"\n",
        "print(var_str.isdecimal())\n",
        "var_str= \"Python\"\n",
        "print(var_str.isdecimal())"
      ],
      "execution_count": null,
      "outputs": [
        {
          "output_type": "stream",
          "name": "stdout",
          "text": [
            "True\n",
            "False\n"
          ]
        }
      ]
    },
    {
      "cell_type": "code",
      "metadata": {
        "colab": {
          "base_uri": "https://localhost:8080/"
        },
        "id": "tOnQK3Yh-lMh",
        "outputId": "928eb0a8-7222-4f3a-dced-b48a94102099"
      },
      "source": [
        "# 15.digit\n",
        "var_str= \"1235\"\n",
        "print(var_str.isdigit())\n",
        "var_str= \"Python\"\n",
        "print(var_str.isdigit())"
      ],
      "execution_count": null,
      "outputs": [
        {
          "output_type": "stream",
          "name": "stdout",
          "text": [
            "True\n",
            "False\n"
          ]
        }
      ]
    },
    {
      "cell_type": "code",
      "metadata": {
        "colab": {
          "base_uri": "https://localhost:8080/"
        },
        "id": "y7_XzImB_FmQ",
        "outputId": "0eabfb41-ad5f-46a6-afbf-c247c8a24374"
      },
      "source": [
        "# 16.isidentifier\n",
        "var_str=\"none\"\n",
        "print(var_str.isidentifier())\n",
        "var_str=\"while\"\n",
        "print(var_str.isidentifier())\n",
        "var_str=\"for\"\n",
        "print(var_str.isidentifier())\n",
        "var_str=\"false\"\n",
        "print(var_str.isidentifier())"
      ],
      "execution_count": null,
      "outputs": [
        {
          "output_type": "stream",
          "name": "stdout",
          "text": [
            "True\n",
            "True\n",
            "True\n",
            "True\n"
          ]
        }
      ]
    },
    {
      "cell_type": "code",
      "metadata": {
        "colab": {
          "base_uri": "https://localhost:8080/"
        },
        "id": "zHhwdb2pACOL",
        "outputId": "b14a300a-fa02-4d0c-c7ad-876a6f22a20e"
      },
      "source": [
        "# 17.islower\n",
        "var_str = \"Python Programming\"\n",
        "print(var_str.islower())\n",
        "var_str = \"python programming\"\n",
        "print(var_str.islower())"
      ],
      "execution_count": null,
      "outputs": [
        {
          "output_type": "stream",
          "name": "stdout",
          "text": [
            "False\n",
            "True\n"
          ]
        }
      ]
    },
    {
      "cell_type": "code",
      "metadata": {
        "colab": {
          "base_uri": "https://localhost:8080/"
        },
        "id": "0cNS0chbAii5",
        "outputId": "e2cf9534-dda9-485e-dddc-d275c3eb42f3"
      },
      "source": [
        "# 18.isnumeric\n",
        "var_str = \"Python Programming\"\n",
        "print(var_str.isnumeric())\n",
        "var_str = \"256\"\n",
        "print(var_str.isnumeric())\n",
        "var_str = \"256,10,15,8\"\n",
        "print(var_str.isnumeric())#shows only for 1 number"
      ],
      "execution_count": null,
      "outputs": [
        {
          "output_type": "stream",
          "name": "stdout",
          "text": [
            "False\n",
            "True\n",
            "False\n"
          ]
        }
      ]
    },
    {
      "cell_type": "code",
      "metadata": {
        "colab": {
          "base_uri": "https://localhost:8080/"
        },
        "id": "XEwjVMPWBY5Z",
        "outputId": "366691c0-3f67-4956-8d35-522d445b4c94"
      },
      "source": [
        "# 19.isprintable\n",
        "var_str = \"Python Programming\"\n",
        "print(var_str.isprintable())\n",
        "var_str = \"python programming12244\"\n",
        "print(var_str.isprintable())"
      ],
      "execution_count": null,
      "outputs": [
        {
          "output_type": "stream",
          "name": "stdout",
          "text": [
            "True\n",
            "True\n"
          ]
        }
      ]
    },
    {
      "cell_type": "code",
      "metadata": {
        "colab": {
          "base_uri": "https://localhost:8080/"
        },
        "id": "G87H_7yLB2CR",
        "outputId": "04f5f433-d25b-4d14-bd96-882951922c4f"
      },
      "source": [
        "# 20.istitle\n",
        "var_str = \"Python Programming\"\n",
        "print(var_str.istitle())\n",
        "var_str = \"python programming\"\n",
        "print(var_str.istitle())#only when 1st letter capital"
      ],
      "execution_count": null,
      "outputs": [
        {
          "output_type": "stream",
          "name": "stdout",
          "text": [
            "True\n",
            "False\n"
          ]
        }
      ]
    },
    {
      "cell_type": "code",
      "metadata": {
        "colab": {
          "base_uri": "https://localhost:8080/"
        },
        "id": "OTBIkdwRCVKs",
        "outputId": "a2f9426c-4c32-4096-a9e3-29408cc7e45d"
      },
      "source": [
        "# 21.isupper\n",
        "var_str = \"Python Programming\"\n",
        "print(var_str.isupper())\n",
        "var_str = \"PYTHON\"\n",
        "print(var_str.isupper())"
      ],
      "execution_count": null,
      "outputs": [
        {
          "output_type": "stream",
          "name": "stdout",
          "text": [
            "False\n",
            "True\n"
          ]
        }
      ]
    },
    {
      "cell_type": "code",
      "metadata": {
        "colab": {
          "base_uri": "https://localhost:8080/"
        },
        "id": "CVNMLYZVCoeb",
        "outputId": "2cbafc32-7bca-497b-984f-e20d8adfd4d4"
      },
      "source": [
        "# 22.lower\n",
        "var_str = \"PYTHON Programming\"\n",
        "print(var_str.lower())\n",
        "var_str = \"PytHoN ProGraMMing\"\n",
        "print(var_str.lower())"
      ],
      "execution_count": null,
      "outputs": [
        {
          "output_type": "stream",
          "name": "stdout",
          "text": [
            "python programming\n",
            "python programming\n"
          ]
        }
      ]
    },
    {
      "cell_type": "code",
      "metadata": {
        "colab": {
          "base_uri": "https://localhost:8080/"
        },
        "id": "Q5k-0a3JEUcs",
        "outputId": "67d70221-9711-48f0-fce4-aeae3d236f37"
      },
      "source": [
        "# 23.upper\n",
        "var_str = \"python Programming\"\n",
        "print(var_str.upper())\n",
        "var_str = \"PytHoN ProGraMMing\"\n",
        "print(var_str.upper())"
      ],
      "execution_count": null,
      "outputs": [
        {
          "output_type": "stream",
          "name": "stdout",
          "text": [
            "PYTHON PROGRAMMING\n",
            "PYTHON PROGRAMMING\n"
          ]
        }
      ]
    },
    {
      "cell_type": "code",
      "metadata": {
        "colab": {
          "base_uri": "https://localhost:8080/"
        },
        "id": "nIXAQ3-CExcU",
        "outputId": "8d61bd17-92ab-4dce-fcc9-d15cb6118d49"
      },
      "source": [
        "# 24.lstrip\n",
        "var_str = \"      python Programming     \"\n",
        "print(var_str.lstrip())"
      ],
      "execution_count": null,
      "outputs": [
        {
          "output_type": "stream",
          "name": "stdout",
          "text": [
            "python Programming     \n"
          ]
        }
      ]
    },
    {
      "cell_type": "code",
      "metadata": {
        "colab": {
          "base_uri": "https://localhost:8080/"
        },
        "id": "qyJBvbbaFVau",
        "outputId": "33a0ea23-4c13-40ab-b63c-ead8e7bc3f84"
      },
      "source": [
        "# 25.rstrip\n",
        "var_str = \"      python Programming     \"\n",
        "print(var_str.rstrip())"
      ],
      "execution_count": null,
      "outputs": [
        {
          "output_type": "stream",
          "name": "stdout",
          "text": [
            "      python Programming\n"
          ]
        }
      ]
    },
    {
      "cell_type": "code",
      "metadata": {
        "colab": {
          "base_uri": "https://localhost:8080/"
        },
        "id": "cyFR2VZeFeDU",
        "outputId": "c07fe0f8-5624-4f50-db88-c0a189a47b5a"
      },
      "source": [
        "# 26.replace\n",
        "var_str = \"Python Programming\"\n",
        "print(var_str.replace('p','c'))#no replace, due to we don't use small 'p' for var's value\n",
        "print(var_str.replace('P','c'))"
      ],
      "execution_count": null,
      "outputs": [
        {
          "output_type": "stream",
          "name": "stdout",
          "text": [
            "Python Programming\n",
            "cython crogramming\n"
          ]
        }
      ]
    }
  ]
}