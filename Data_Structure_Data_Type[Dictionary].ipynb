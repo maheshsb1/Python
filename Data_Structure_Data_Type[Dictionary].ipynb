{
  "nbformat": 4,
  "nbformat_minor": 0,
  "metadata": {
    "colab": {
      "name": "Data Structure Data Type[Dictionary]",
      "provenance": [],
      "collapsed_sections": [],
      "authorship_tag": "ABX9TyPhKNf8NaIGCyN3fbDLXmLu",
      "include_colab_link": true
    },
    "kernelspec": {
      "name": "python3",
      "display_name": "Python 3"
    },
    "language_info": {
      "name": "python"
    }
  },
  "cells": [
    {
      "cell_type": "markdown",
      "metadata": {
        "id": "view-in-github",
        "colab_type": "text"
      },
      "source": [
        "<a href=\"https://colab.research.google.com/github/maheshsb1/Python/blob/Basics/Data_Structure_Data_Type%5BDictionary%5D.ipynb\" target=\"_parent\"><img src=\"https://colab.research.google.com/assets/colab-badge.svg\" alt=\"Open In Colab\"/></a>"
      ]
    },
    {
      "cell_type": "markdown",
      "metadata": {
        "id": "fM-1J14235ZZ"
      },
      "source": [
        "#Dictionary\n",
        "Dictionary is collection of Key: Value"
      ]
    },
    {
      "cell_type": "code",
      "metadata": {
        "colab": {
          "base_uri": "https://localhost:8080/"
        },
        "id": "Pc2aNaRx4AN7",
        "outputId": "f2ad5f84-6c13-4530-929d-aa52e6eac24b"
      },
      "source": [
        "#Dictionary\n",
        "var_dict = {'a':'apple', 'b':'ball', 'c':'cat', 'd':'dog'}\n",
        "print(var_dict)\n",
        "print(type(var_dict))\n",
        "\n",
        "var_dict = {1:'apple', 2:'banana', 3:'cherries'}\n",
        "print(var_dict)\n",
        "print(type(var_dict))\n",
        "\n",
        "var_dict = {}\n",
        "print(var_dict)\n",
        "print(type(var_dict))"
      ],
      "execution_count": 3,
      "outputs": [
        {
          "output_type": "stream",
          "name": "stdout",
          "text": [
            "{'a': 'apple', 'b': 'ball', 'c': 'cat', 'd': 'dog'}\n",
            "<class 'dict'>\n",
            "{1: 'apple', 2: 'banana', 3: 'cherries'}\n",
            "<class 'dict'>\n",
            "{}\n",
            "<class 'dict'>\n"
          ]
        }
      ]
    },
    {
      "cell_type": "markdown",
      "metadata": {
        "id": "1Gvy8Eiz68hu"
      },
      "source": [
        "In Dictionary no Slicing occurs, It can Specify only one value at a time by giving its key"
      ]
    },
    {
      "cell_type": "code",
      "metadata": {
        "colab": {
          "base_uri": "https://localhost:8080/"
        },
        "id": "VrsFAoMq4792",
        "outputId": "7170bdc4-c04a-410c-e567-a7c0048f38d8"
      },
      "source": [
        "#indexing \n",
        "var_dict = {'a':'apple', 'b':'banana', 'c':'cherries'}\n",
        "print(var_dict)\n",
        "print(type(var_dict))\n",
        "print(var_dict['a'])# indexing only single single value in Dictionary as we give key \n",
        "print(var_dict['b'])\n",
        "print(var_dict['c'])"
      ],
      "execution_count": 4,
      "outputs": [
        {
          "output_type": "stream",
          "name": "stdout",
          "text": [
            "{'a': 'apple', 'b': 'banana', 'c': 'cherries'}\n",
            "<class 'dict'>\n",
            "apple\n",
            "banana\n",
            "cherries\n"
          ]
        }
      ]
    },
    {
      "cell_type": "code",
      "metadata": {
        "colab": {
          "base_uri": "https://localhost:8080/"
        },
        "id": "QPwYcWR55zkr",
        "outputId": "4f571f1f-0843-4073-b9dd-01c5f974c479"
      },
      "source": [
        "var_dict = {1: 'apple', 2: 'ball', 3: 'cat', 4: 'dog'}\n",
        "print(var_dict)\n",
        "print(type(var_dict))\n",
        "print(var_dict[1])\n",
        "print(var_dict[3])\n",
        "print(var_dict[4])"
      ],
      "execution_count": 6,
      "outputs": [
        {
          "output_type": "stream",
          "name": "stdout",
          "text": [
            "{1: 'apple', 2: 'ball', 3: 'cat', 4: 'dog'}\n",
            "<class 'dict'>\n",
            "apple\n",
            "cat\n",
            "dog\n"
          ]
        }
      ]
    }
  ]
}