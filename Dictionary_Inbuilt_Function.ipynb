{
  "nbformat": 4,
  "nbformat_minor": 0,
  "metadata": {
    "colab": {
      "name": "Dictionary Inbuilt Function",
      "provenance": [],
      "collapsed_sections": [],
      "authorship_tag": "ABX9TyMZvu7HYDkorFPjzFFGZ+Tl",
      "include_colab_link": true
    },
    "kernelspec": {
      "name": "python3",
      "display_name": "Python 3"
    },
    "language_info": {
      "name": "python"
    }
  },
  "cells": [
    {
      "cell_type": "markdown",
      "metadata": {
        "id": "view-in-github",
        "colab_type": "text"
      },
      "source": [
        "<a href=\"https://colab.research.google.com/github/maheshsb1/Python/blob/Basics/Dictionary_Inbuilt_Function.ipynb\" target=\"_parent\"><img src=\"https://colab.research.google.com/assets/colab-badge.svg\" alt=\"Open In Colab\"/></a>"
      ]
    },
    {
      "cell_type": "markdown",
      "metadata": {
        "id": "G-W9poZz7iku"
      },
      "source": [
        "Dictionary Inbuilt Function"
      ]
    },
    {
      "cell_type": "code",
      "metadata": {
        "colab": {
          "base_uri": "https://localhost:8080/"
        },
        "id": "iXX9_tTf7yCg",
        "outputId": "089936a9-804b-4369-e370-56f6fae35bd5"
      },
      "source": [
        "#Dictionary Inbuilt Function\n",
        "#1. keys\n",
        "var_dict = {1:'apple',2:'banana',3:'cherries',4:'dates'}\n",
        "var_dict.keys()"
      ],
      "execution_count": 1,
      "outputs": [
        {
          "output_type": "execute_result",
          "data": {
            "text/plain": [
              "dict_keys([1, 2, 3, 4])"
            ]
          },
          "metadata": {},
          "execution_count": 1
        }
      ]
    },
    {
      "cell_type": "code",
      "metadata": {
        "colab": {
          "base_uri": "https://localhost:8080/"
        },
        "id": "WX8ZMKZA8KVA",
        "outputId": "07684b85-d44c-464f-b362-cb9948cb32e2"
      },
      "source": [
        "#2. values\n",
        "var_dict = {1:'apple',2:'banana',3:'cherries',4:'dates'}\n",
        "print(var_dict.values())\n",
        "\n",
        "var_dict = {'a':('april'),\n",
        "            'd':('december'),\n",
        "            'f':('feb'),\n",
        "            'j':('jan', 'jun', 'jul')}\n",
        "\n",
        "print(var_dict.values())\n",
        "\n"
      ],
      "execution_count": 39,
      "outputs": [
        {
          "output_type": "stream",
          "name": "stdout",
          "text": [
            "dict_values(['apple', 'banana', 'cherries', 'dates'])\n",
            "dict_values(['april', 'december', 'feb', ('jan', 'jun', 'jul')])\n"
          ]
        }
      ]
    },
    {
      "cell_type": "code",
      "metadata": {
        "colab": {
          "base_uri": "https://localhost:8080/"
        },
        "id": "4P52_qiz8se6",
        "outputId": "b0c1cf58-bdb2-4692-a3d7-a01051bc6587"
      },
      "source": [
        "#3. clear\n",
        "var_dict = {1:'apple',2:'banana',3:'cherries',4:'dates'}\n",
        "print(var_dict)\n",
        "print(type(var_dict))\n",
        "var_dict.clear()\n",
        "var_dict"
      ],
      "execution_count": 4,
      "outputs": [
        {
          "output_type": "stream",
          "name": "stdout",
          "text": [
            "{1: 'apple', 2: 'banana', 3: 'cherries', 4: 'dates'}\n",
            "<class 'dict'>\n"
          ]
        },
        {
          "output_type": "execute_result",
          "data": {
            "text/plain": [
              "{}"
            ]
          },
          "metadata": {},
          "execution_count": 4
        }
      ]
    },
    {
      "cell_type": "code",
      "metadata": {
        "colab": {
          "base_uri": "https://localhost:8080/"
        },
        "id": "89Rolgyl9U2d",
        "outputId": "1793cec3-2322-4ef5-b2fa-0fb7d4733fa9"
      },
      "source": [
        "#4. copy\n",
        "var_dict = {1 :'apple',2 :'banana',3 :'cherries',4:'dates'}\n",
        "var_dict_cp = var_dict.copy()\n",
        "print(var_dict)\n",
        "print(var_dict_cp)"
      ],
      "execution_count": 7,
      "outputs": [
        {
          "output_type": "stream",
          "name": "stdout",
          "text": [
            "{1: 'apple', 2: 'banana', 3: 'cherries', 4: 'dates'}\n",
            "{1: 'apple', 2: 'banana', 3: 'cherries', 4: 'dates'}\n"
          ]
        }
      ]
    },
    {
      "cell_type": "code",
      "metadata": {
        "colab": {
          "base_uri": "https://localhost:8080/"
        },
        "id": "f9W_I_yF95Z6",
        "outputId": "9dc10aad-dba6-407a-d3cf-19637263e400"
      },
      "source": [
        "#5. get\n",
        "var_dict = {1 :'apple',2 :'banana',3 :'cherries',4:'dates'}\n",
        "print(var_dict.get(4))\n",
        "print(var_dict.get(2))\n",
        "print(var_dict.get(3))"
      ],
      "execution_count": 9,
      "outputs": [
        {
          "output_type": "stream",
          "name": "stdout",
          "text": [
            "dates\n",
            "banana\n",
            "cherries\n"
          ]
        }
      ]
    },
    {
      "cell_type": "code",
      "metadata": {
        "colab": {
          "base_uri": "https://localhost:8080/"
        },
        "id": "Y2IAEE16-1sj",
        "outputId": "065c7ca3-2bfc-4297-c3d7-da65f001915d"
      },
      "source": [
        "#6. items\n",
        "var_dict = {1 :'apple',2 :'banana',3 :'cherries',4:'dates'}\n",
        "print(var_dict.items())\n",
        "\n"
      ],
      "execution_count": 12,
      "outputs": [
        {
          "output_type": "stream",
          "name": "stdout",
          "text": [
            "dict_items([(1, 'apple'), (2, 'banana'), (3, 'cherries'), (4, 'dates')])\n"
          ]
        }
      ]
    },
    {
      "cell_type": "code",
      "metadata": {
        "colab": {
          "base_uri": "https://localhost:8080/"
        },
        "id": "QicgWvc1_XQ8",
        "outputId": "18f4f986-39b6-471f-9a62-2af063698d9d"
      },
      "source": [
        "#7. pop\n",
        "var_dict = {1 :'apple',2 :'banana',3 :'cherries',4:'dates'}\n",
        "var_dict.pop(3)\n",
        "print(var_dict)\n",
        "\n",
        "print(var_dict.pop(2))\n",
        "\n"
      ],
      "execution_count": 22,
      "outputs": [
        {
          "output_type": "stream",
          "name": "stdout",
          "text": [
            "{1: 'apple', 2: 'banana', 4: 'dates'}\n",
            "banana\n"
          ]
        }
      ]
    },
    {
      "cell_type": "code",
      "metadata": {
        "colab": {
          "base_uri": "https://localhost:8080/"
        },
        "id": "I6xx3IvIAfhM",
        "outputId": "f532e03a-37c7-4c42-fb59-8e81ddc93d1f"
      },
      "source": [
        "#8. popitem\n",
        "var_dict = {1 :'apple',2 :'banana',3 :'cherries',4:'dates'}\n",
        "print(var_dict)\n",
        "var_dict.popitem()\n",
        "print(var_dict)"
      ],
      "execution_count": 23,
      "outputs": [
        {
          "output_type": "stream",
          "name": "stdout",
          "text": [
            "{1: 'apple', 2: 'banana', 3: 'cherries', 4: 'dates'}\n",
            "{1: 'apple', 2: 'banana', 3: 'cherries'}\n"
          ]
        }
      ]
    },
    {
      "cell_type": "code",
      "metadata": {
        "colab": {
          "base_uri": "https://localhost:8080/"
        },
        "id": "Awz48Iu1_o2e",
        "outputId": "74dabc81-5cdb-41a8-88df-9ed3358ee8d0"
      },
      "source": [
        "#9. setdefault\n",
        "var_dict = {1: 'apple', 2: 'banana', 3: 'cherries', 4: 'dates'}\n",
        "print(var_dict)\n",
        "var_dict.setdefault(5,'mango')\n",
        "print(var_dict)\n",
        "\n",
        "var_dict.setdefault(7, 'Man')\n",
        "print(var_dict)"
      ],
      "execution_count": 26,
      "outputs": [
        {
          "output_type": "stream",
          "name": "stdout",
          "text": [
            "{1: 'apple', 2: 'banana', 3: 'cherries', 4: 'dates'}\n",
            "{1: 'apple', 2: 'banana', 3: 'cherries', 4: 'dates', 5: 'mango'}\n",
            "{1: 'apple', 2: 'banana', 3: 'cherries', 4: 'dates', 5: 'mango', 7: 'Man'}\n"
          ]
        }
      ]
    },
    {
      "cell_type": "code",
      "metadata": {
        "colab": {
          "base_uri": "https://localhost:8080/"
        },
        "id": "A53QX5TcBYj2",
        "outputId": "81d86122-9fa2-4d33-eac0-0793312f4f36"
      },
      "source": [
        "#10. update\n",
        "\n",
        "var_dict = {1: 'apple', 2: 'banana', 3: 'cherries', 4: 'dates'}\n",
        "var_dict.update({5:'Man'})\n",
        "print(var_dict)\n",
        "\n",
        "var_dict.update({8:'mango'})\n",
        "print(var_dict)"
      ],
      "execution_count": 29,
      "outputs": [
        {
          "output_type": "stream",
          "name": "stdout",
          "text": [
            "{1: 'apple', 2: 'banana', 3: 'cherries', 4: 'dates', 5: 'Man'}\n",
            "{1: 'apple', 2: 'banana', 3: 'cherries', 4: 'dates', 5: 'Man', 8: 'mango'}\n"
          ]
        }
      ]
    }
  ]
}