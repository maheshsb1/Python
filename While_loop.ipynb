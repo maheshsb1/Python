{
  "nbformat": 4,
  "nbformat_minor": 0,
  "metadata": {
    "colab": {
      "name": "While loop.ipynb",
      "provenance": [],
      "collapsed_sections": [],
      "authorship_tag": "ABX9TyNdRojSqjcuEFHA3ILsIEqP",
      "include_colab_link": true
    },
    "kernelspec": {
      "name": "python3",
      "display_name": "Python 3"
    },
    "language_info": {
      "name": "python"
    }
  },
  "cells": [
    {
      "cell_type": "markdown",
      "metadata": {
        "id": "view-in-github",
        "colab_type": "text"
      },
      "source": [
        "<a href=\"https://colab.research.google.com/github/maheshsb1/Python/blob/Loops/While_loop.ipynb\" target=\"_parent\"><img src=\"https://colab.research.google.com/assets/colab-badge.svg\" alt=\"Open In Colab\"/></a>"
      ]
    },
    {
      "cell_type": "markdown",
      "metadata": {
        "id": "K2GdCo8Jjp1D"
      },
      "source": [
        "#While loop\n",
        "while, while else, (break)while-if-break-else, (continue)while-if-continue-else "
      ]
    },
    {
      "cell_type": "code",
      "metadata": {
        "colab": {
          "base_uri": "https://localhost:8080/"
        },
        "id": "r_6riBb1jRlG",
        "outputId": "9cb59ed3-84b1-4314-9d6d-c23cc01d276e"
      },
      "source": [
        "#while\n",
        "a= 10\n",
        "\n",
        "while(a <= 15):\n",
        "  print('while(a <= 15):', a)\n",
        "  a +=1\n"
      ],
      "execution_count": 43,
      "outputs": [
        {
          "output_type": "stream",
          "name": "stdout",
          "text": [
            "while(a <= 15): 10\n",
            "while(a <= 15): 11\n",
            "while(a <= 15): 12\n",
            "while(a <= 15): 13\n",
            "while(a <= 15): 14\n",
            "while(a <= 15): 15\n"
          ]
        }
      ]
    },
    {
      "cell_type": "code",
      "metadata": {
        "colab": {
          "base_uri": "https://localhost:8080/"
        },
        "id": "AKMAx318mrQH",
        "outputId": "5ebabe01-ffcd-4a5c-98ce-60ec3e7b2bad"
      },
      "source": [
        "a= 15\n",
        "\n",
        "while(a <= 25):\n",
        "  print( a)\n",
        "  a +=1"
      ],
      "execution_count": 44,
      "outputs": [
        {
          "output_type": "stream",
          "name": "stdout",
          "text": [
            "15\n",
            "16\n",
            "17\n",
            "18\n",
            "19\n",
            "20\n",
            "21\n",
            "22\n",
            "23\n",
            "24\n",
            "25\n"
          ]
        }
      ]
    },
    {
      "cell_type": "code",
      "metadata": {
        "colab": {
          "base_uri": "https://localhost:8080/"
        },
        "id": "Vw85wbiFnKmE",
        "outputId": "69848978-fba4-4c30-c462-c810677347b6"
      },
      "source": [
        "#while else\n",
        "a=89\n",
        "while(a>77):\n",
        "  print(a)\n",
        "  a-=1\n",
        "else:\n",
        "  print('No more number found greater than 77')"
      ],
      "execution_count": 45,
      "outputs": [
        {
          "output_type": "stream",
          "name": "stdout",
          "text": [
            "89\n",
            "88\n",
            "87\n",
            "86\n",
            "85\n",
            "84\n",
            "83\n",
            "82\n",
            "81\n",
            "80\n",
            "79\n",
            "78\n",
            "No more number found greater than 77\n"
          ]
        }
      ]
    },
    {
      "cell_type": "code",
      "metadata": {
        "colab": {
          "base_uri": "https://localhost:8080/"
        },
        "id": "k13rTxc8oTGQ",
        "outputId": "faee8f1f-5aa4-4dbd-87f5-1e913db405d0"
      },
      "source": [
        "#break(while, if-break, else)\n",
        "\n",
        "a=20\n",
        "while(a>10):\n",
        "  print('sub',a)\n",
        "  a-=1\n",
        "  if(a==15):\n",
        "    break\n",
        "else:\n",
        "    print('No more number found greater than 10 in break condition')  \n",
        "\n",
        "a=50\n",
        "while(a<65):\n",
        "  print('add',a)\n",
        "  a+=2\n",
        "  if(a==60):\n",
        "    break\n",
        "else:\n",
        "    print('No more number found smaller than 60 in break condition')    \n"
      ],
      "execution_count": 64,
      "outputs": [
        {
          "output_type": "stream",
          "name": "stdout",
          "text": [
            "sub 20\n",
            "sub 19\n",
            "sub 18\n",
            "sub 17\n",
            "sub 16\n",
            "add 50\n",
            "add 52\n",
            "add 54\n",
            "add 56\n",
            "add 58\n"
          ]
        }
      ]
    },
    {
      "cell_type": "code",
      "metadata": {
        "colab": {
          "base_uri": "https://localhost:8080/"
        },
        "id": "oozpAaHSsUiN",
        "outputId": "d06acfd9-adfc-4ff9-8e9e-722e91261776"
      },
      "source": [
        "# continue(while,if-continue,else)\n",
        "a=20\n",
        "while(a>10):\n",
        "   a-=1\n",
        "   if(a==15):\n",
        "     continue\n",
        "   print('while(a>10):',a)\n",
        "else:\n",
        "       print(\"No more number found smaller than 10\")\n",
        "\n",
        "\n",
        "a=80\n",
        "while(a<92):\n",
        "   a+=1\n",
        "   if(a==86):\n",
        "     continue\n",
        "   print(a)\n",
        "else:\n",
        "       print(\"No more number found greater than 92\")       "
      ],
      "execution_count": 51,
      "outputs": [
        {
          "output_type": "stream",
          "name": "stdout",
          "text": [
            "while(a>10): 19\n",
            "while(a>10): 18\n",
            "while(a>10): 17\n",
            "while(a>10): 16\n",
            "while(a>10): 14\n",
            "while(a>10): 13\n",
            "while(a>10): 12\n",
            "while(a>10): 11\n",
            "while(a>10): 10\n",
            "No more number found smaller than 10\n",
            "81\n",
            "82\n",
            "83\n",
            "84\n",
            "85\n",
            "87\n",
            "88\n",
            "89\n",
            "90\n",
            "91\n",
            "92\n",
            "No more number found greater than 92\n"
          ]
        }
      ]
    }
  ]
}