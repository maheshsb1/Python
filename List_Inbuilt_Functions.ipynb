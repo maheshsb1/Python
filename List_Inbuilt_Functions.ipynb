{
  "nbformat": 4,
  "nbformat_minor": 0,
  "metadata": {
    "colab": {
      "name": "List- Inbuilt Functions",
      "provenance": [],
      "authorship_tag": "ABX9TyNAi4PPQOLZsvsuCWiIZxc3",
      "include_colab_link": true
    },
    "kernelspec": {
      "name": "python3",
      "display_name": "Python 3"
    },
    "language_info": {
      "name": "python"
    }
  },
  "cells": [
    {
      "cell_type": "markdown",
      "metadata": {
        "id": "view-in-github",
        "colab_type": "text"
      },
      "source": [
        "<a href=\"https://colab.research.google.com/github/maheshsb1/Python/blob/Basics/List_Inbuilt_Functions.ipynb\" target=\"_parent\"><img src=\"https://colab.research.google.com/assets/colab-badge.svg\" alt=\"Open In Colab\"/></a>"
      ]
    },
    {
      "cell_type": "code",
      "metadata": {
        "colab": {
          "base_uri": "https://localhost:8080/"
        },
        "id": "Jd_jO1hGGG93",
        "outputId": "b2bfaee8-a313-4106-d217-4122f46fc906"
      },
      "source": [
        "#List Inbuilt Function\n",
        "#1. append\n",
        "var_lst= ['apple', 'banana', 'charries', 'dates', 'eggfruits', 'fig']\n",
        "print(var_lst)\n",
        "var_lst.append('honey')\n",
        "print(var_lst)\n",
        "\n",
        "var_lst.append('mango')\n",
        "print(var_lst)"
      ],
      "execution_count": 33,
      "outputs": [
        {
          "output_type": "stream",
          "name": "stdout",
          "text": [
            "['apple', 'banana', 'charries', 'dates', 'eggfruits', 'fig']\n",
            "['apple', 'banana', 'charries', 'dates', 'eggfruits', 'fig', 'honey']\n",
            "['apple', 'banana', 'charries', 'dates', 'eggfruits', 'fig', 'honey', 'mango']\n"
          ]
        }
      ]
    },
    {
      "cell_type": "code",
      "metadata": {
        "colab": {
          "base_uri": "https://localhost:8080/"
        },
        "id": "GlurIHGrH-Ft",
        "outputId": "76d817e9-c764-4274-e2b1-269d7dad2f74"
      },
      "source": [
        "#2. clear\n",
        "var_lst= ['apple', 'banana', 'charries', 'dates', 'eggfruits', 'fig']\n",
        "print(var_lst)\n",
        "\n",
        "var_lst.clear()\n",
        "print(var_lst)\n"
      ],
      "execution_count": 34,
      "outputs": [
        {
          "output_type": "stream",
          "name": "stdout",
          "text": [
            "['apple', 'banana', 'charries', 'dates', 'eggfruits', 'fig']\n",
            "[]\n"
          ]
        }
      ]
    },
    {
      "cell_type": "code",
      "metadata": {
        "colab": {
          "base_uri": "https://localhost:8080/"
        },
        "id": "5NXyv2UeIzyI",
        "outputId": "f4dbdb45-86ed-4d4d-8ca6-1d418dcc344c"
      },
      "source": [
        "#3. copy\n",
        "var_lst= ['apple', 'banana', 'charries', 'dates', 'eggfruits', 'fig']\n",
        "print(var_lst)\n",
        "\n",
        "var_lst_cp= var_lst.copy()\n",
        "print(var_lst_cp)\n",
        "\n",
        "var_lst1= ['apple', 'banana', 'charries', 'dates', 'fig']\n",
        "var_lst_cp= var_lst1.copy()\n",
        "print(var_lst_cp)"
      ],
      "execution_count": 35,
      "outputs": [
        {
          "output_type": "stream",
          "name": "stdout",
          "text": [
            "['apple', 'banana', 'charries', 'dates', 'eggfruits', 'fig']\n",
            "['apple', 'banana', 'charries', 'dates', 'eggfruits', 'fig']\n",
            "['apple', 'banana', 'charries', 'dates', 'fig']\n"
          ]
        }
      ]
    },
    {
      "cell_type": "code",
      "metadata": {
        "colab": {
          "base_uri": "https://localhost:8080/"
        },
        "id": "WLWTI5_5J2l_",
        "outputId": "a8013398-e0ca-42ef-87a0-3c8f80f9ff3c"
      },
      "source": [
        "#4. count\n",
        "var_lst= ['apple', 'banana', 'charries', 'dates', 'eggfruits', 'banana']\n",
        "print(var_lst)\n",
        "\n",
        "print(var_lst.count('banana'))\n",
        "print(var_lst.count('egg'))\n",
        "print(var_lst.count('apple'))"
      ],
      "execution_count": 36,
      "outputs": [
        {
          "output_type": "stream",
          "name": "stdout",
          "text": [
            "['apple', 'banana', 'charries', 'dates', 'eggfruits', 'banana']\n",
            "2\n",
            "0\n",
            "1\n"
          ]
        }
      ]
    },
    {
      "cell_type": "code",
      "metadata": {
        "colab": {
          "base_uri": "https://localhost:8080/"
        },
        "id": "Ky4oJHmZKZTV",
        "outputId": "337ad549-f304-4a91-dca0-c496ed3de85b"
      },
      "source": [
        "#5. extend\n",
        "var_lst= ['apple', 'banana', 'charries', 'dates', 'eggfruits', 'fig']\n",
        "print(var_lst)\n",
        "\n",
        "var_lst.extend(['mango','orange'])\n",
        "print(var_lst)\n",
        "\n",
        "var_lst.extend('graps')\n",
        "print(var_lst)\n",
        "\n",
        "var_lst.extend(['graps'])\n",
        "print(var_lst)"
      ],
      "execution_count": 37,
      "outputs": [
        {
          "output_type": "stream",
          "name": "stdout",
          "text": [
            "['apple', 'banana', 'charries', 'dates', 'eggfruits', 'fig']\n",
            "['apple', 'banana', 'charries', 'dates', 'eggfruits', 'fig', 'mango', 'orange']\n",
            "['apple', 'banana', 'charries', 'dates', 'eggfruits', 'fig', 'mango', 'orange', 'g', 'r', 'a', 'p', 's']\n",
            "['apple', 'banana', 'charries', 'dates', 'eggfruits', 'fig', 'mango', 'orange', 'g', 'r', 'a', 'p', 's', 'graps']\n"
          ]
        }
      ]
    },
    {
      "cell_type": "code",
      "metadata": {
        "colab": {
          "base_uri": "https://localhost:8080/"
        },
        "id": "aaUDvrJNLNvx",
        "outputId": "b02be322-3818-4a58-b81e-0d1809d5b9b7"
      },
      "source": [
        "#6 index\n",
        "var_lst= ['apple', 'banana', 'charries', 'dates', 'eggfruits', 'fig']\n",
        "print(var_lst)\n",
        "\n",
        "print(var_lst.index('banana'))\n",
        "print(var_lst.index('apple'))\n",
        "print(var_lst.index('dates'))"
      ],
      "execution_count": 38,
      "outputs": [
        {
          "output_type": "stream",
          "name": "stdout",
          "text": [
            "['apple', 'banana', 'charries', 'dates', 'eggfruits', 'fig']\n",
            "1\n",
            "0\n",
            "3\n"
          ]
        }
      ]
    },
    {
      "cell_type": "code",
      "metadata": {
        "colab": {
          "base_uri": "https://localhost:8080/"
        },
        "id": "WsVBj0gjLvmm",
        "outputId": "97dd2390-53cf-4dfa-e506-26e44fb2ae07"
      },
      "source": [
        "#7. insert\n",
        "var_lst= ['apple', 'banana', 'charries', 'dates', 'eggfruits', 'fig']\n",
        "print(var_lst)\n",
        "\n",
        "var_lst.insert(2,'mango')\n",
        "print(var_lst)\n",
        "\n",
        "var_lst.insert(5,'21')\n",
        "print(var_lst)"
      ],
      "execution_count": 40,
      "outputs": [
        {
          "output_type": "stream",
          "name": "stdout",
          "text": [
            "['apple', 'banana', 'charries', 'dates', 'eggfruits', 'fig']\n",
            "['apple', 'banana', 'mango', 'charries', 'dates', 'eggfruits', 'fig']\n",
            "['apple', 'banana', 'mango', 'charries', 'dates', '21', 'eggfruits', 'fig']\n"
          ]
        }
      ]
    },
    {
      "cell_type": "code",
      "metadata": {
        "colab": {
          "base_uri": "https://localhost:8080/"
        },
        "id": "PlNfFU-aNCmd",
        "outputId": "c54d4d0f-9fb8-462c-94ee-de7a1c6ebbf7"
      },
      "source": [
        "#8. pop\n",
        "var_lst= ['apple', 'banana', 'charries', 'dates', 'eggfruits', 'fig']\n",
        "print(var_lst)\n",
        "\n",
        "var_lst.pop(3)\n",
        "print(var_lst)\n",
        "\n",
        "print(var_lst.pop(2))#it shows that Index no.\n",
        "print(var_lst)# it removes that index no."
      ],
      "execution_count": 44,
      "outputs": [
        {
          "output_type": "stream",
          "name": "stdout",
          "text": [
            "['apple', 'banana', 'charries', 'dates', 'eggfruits', 'fig']\n",
            "['apple', 'banana', 'charries', 'eggfruits', 'fig']\n",
            "charries\n",
            "['apple', 'banana', 'eggfruits', 'fig']\n"
          ]
        }
      ]
    },
    {
      "cell_type": "code",
      "metadata": {
        "colab": {
          "base_uri": "https://localhost:8080/"
        },
        "id": "lZLjMLpQODpD",
        "outputId": "54ebd63b-72ff-4ec1-e91b-c46462891e32"
      },
      "source": [
        "#9. reverse\n",
        "var_lst= ['apple', 'banana', 'charries', 'dates', 'eggfruits', 'fig']\n",
        "print(var_lst)\n",
        "\n",
        "var_lst.reverse()\n",
        "print(var_lst)\n",
        "\n",
        "var_lst.reverse()\n",
        "print(var_lst)"
      ],
      "execution_count": 51,
      "outputs": [
        {
          "output_type": "stream",
          "name": "stdout",
          "text": [
            "['apple', 'banana', 'charries', 'dates', 'eggfruits', 'fig']\n",
            "['fig', 'eggfruits', 'dates', 'charries', 'banana', 'apple']\n",
            "['apple', 'banana', 'charries', 'dates', 'eggfruits', 'fig']\n"
          ]
        }
      ]
    },
    {
      "cell_type": "code",
      "metadata": {
        "colab": {
          "base_uri": "https://localhost:8080/"
        },
        "id": "F00l6140OzZ6",
        "outputId": "2759ba2a-2093-48a6-f4f4-011b2f4b7fcf"
      },
      "source": [
        "#10. remove\n",
        "var_lst= ['apple', 'banana', 'charries', 'dates', 'eggfruits', 'fig']\n",
        "print(var_lst)\n",
        "\n",
        "var_lst.remove('dates')\n",
        "print(var_lst)\n",
        "\n",
        "var_lst.remove('fig')\n",
        "print(var_lst)"
      ],
      "execution_count": 54,
      "outputs": [
        {
          "output_type": "stream",
          "name": "stdout",
          "text": [
            "['apple', 'banana', 'charries', 'dates', 'eggfruits', 'fig']\n",
            "['apple', 'banana', 'charries', 'eggfruits', 'fig']\n",
            "['apple', 'banana', 'charries', 'eggfruits']\n"
          ]
        }
      ]
    },
    {
      "cell_type": "code",
      "metadata": {
        "colab": {
          "base_uri": "https://localhost:8080/"
        },
        "id": "jKWddj0RPTTh",
        "outputId": "2c2f34a1-d602-4f17-cad2-d80986925d5b"
      },
      "source": [
        "#11. sort\n",
        "var_lst= ['apple', 'fig', 'banana', 'charries', 'dates', 'eggfruits']\n",
        "print(var_lst)\n",
        "\n",
        "var_lst.sort()\n",
        "print(var_lst)\n",
        "\n",
        "var_lst=[10, 14, 9, 11, 2, 7]\n",
        "var_lst.sort()\n",
        "print(var_lst)\n",
        "\n",
        "var_lst=[0.23, 2.10, 0.778, 4.01, 0.006]\n",
        "var_lst.sort()\n",
        "print(var_lst)"
      ],
      "execution_count": 66,
      "outputs": [
        {
          "output_type": "stream",
          "name": "stdout",
          "text": [
            "['apple', 'fig', 'banana', 'charries', 'dates', 'eggfruits']\n",
            "['apple', 'banana', 'charries', 'dates', 'eggfruits', 'fig']\n",
            "[2, 7, 9, 10, 11, 14]\n",
            "[0.006, 0.23, 0.778, 2.1, 4.01]\n"
          ]
        }
      ]
    }
  ]
}