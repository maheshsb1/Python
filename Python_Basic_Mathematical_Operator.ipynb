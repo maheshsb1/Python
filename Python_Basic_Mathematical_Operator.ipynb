{
  "nbformat": 4,
  "nbformat_minor": 0,
  "metadata": {
    "colab": {
      "name": "Python Basic Mathematical Operator",
      "provenance": [],
      "collapsed_sections": [],
      "authorship_tag": "ABX9TyPF2wOrGbXxeQF1RMYNznWb",
      "include_colab_link": true
    },
    "kernelspec": {
      "name": "python3",
      "display_name": "Python 3"
    },
    "language_info": {
      "name": "python"
    }
  },
  "cells": [
    {
      "cell_type": "markdown",
      "metadata": {
        "id": "view-in-github",
        "colab_type": "text"
      },
      "source": [
        "<a href=\"https://colab.research.google.com/github/maheshsb1/Python/blob/Basics/Python_Basic_Mathematical_Operator.ipynb\" target=\"_parent\"><img src=\"https://colab.research.google.com/assets/colab-badge.svg\" alt=\"Open In Colab\"/></a>"
      ]
    },
    {
      "cell_type": "markdown",
      "metadata": {
        "id": "yCExw1l3FzRH"
      },
      "source": [
        "Python Basic Mathematical Operator\n",
        "# Arthimatic Operator\n",
        "\n",
        "1. Addition\n",
        "2. Substraction\n",
        "3. Multiplication\n",
        "4. Division\n",
        "5. Modulus\n",
        "6. Floor division\n",
        "7. Exponential"
      ]
    },
    {
      "cell_type": "code",
      "metadata": {
        "colab": {
          "base_uri": "https://localhost:8080/"
        },
        "id": "2m49qvX6GFRY",
        "outputId": "bb8098c2-e1a2-438f-9aea-742b2072a507"
      },
      "source": [
        "a = 56\n",
        "b = 5\n",
        "\n",
        "print(\"Addition: \", a+b)\n",
        "print(\"Substraction: \", a-b)\n",
        "print(\"Division: \", a/b)\n",
        "print(\"Multiplication: \", a*b)\n",
        "print(\"Modulus: \", a%b)\n",
        "print(\"Floor Division: \", a//b)\n",
        "print(\"Exponential: \", a**b)\n",
        "\n",
        "a=2\n",
        "b=10\n",
        "print(\"Exponential: \", a**b)\n",
        "\n",
        "#or\n",
        "a=10\n",
        "b=2\n",
        "print(\"Exponential: \", a**b)"
      ],
      "execution_count": 3,
      "outputs": [
        {
          "output_type": "stream",
          "name": "stdout",
          "text": [
            "Addition:  61\n",
            "Substraction:  51\n",
            "Division:  11.2\n",
            "Multiplication:  280\n",
            "Modulus:  1\n",
            "Floor Division:  11\n",
            "Exponential:  550731776\n",
            "Exponential:  1024\n",
            "Exponential:  100\n"
          ]
        }
      ]
    },
    {
      "cell_type": "markdown",
      "metadata": {
        "id": "sOiKEK5-G-M5"
      },
      "source": [
        "# Comparision Operator\n",
        "\n",
        "1. a = a+b => a += b\n",
        "2. a = a-b => a -= b\n",
        "3. a = a*b => a *= b\n",
        "4. a = a/b => a /= b\n",
        "5. a = a%b => a %= b\n",
        "6. a = a//b => a//=b\n",
        "7. a = a**b => a**=b"
      ]
    },
    {
      "cell_type": "code",
      "metadata": {
        "colab": {
          "base_uri": "https://localhost:8080/"
        },
        "id": "mBlyi3NlHAum",
        "outputId": "ffe7172e-642e-4548-db75-56e795d74f83"
      },
      "source": [
        "a = 15\n",
        "b = 25\n",
        "\n",
        "a += b\n",
        "print(\"addition \", a)\n",
        "\n",
        "a-=b\n",
        "print(\"sub \", a)#here value of a is update from a=15 to a=40(ans of addition) value of b remains same\n",
        "c=15\n",
        "d=25\n",
        "c-=d\n",
        "print(\"sub \", c)#now ans for same value but different var. is different\n",
        "\n",
        "a *=b\n",
        "print(\"Multi \", a)#it shows the ans of a & b in which value of a updated to a=15 (ans of a-b)\n",
        "e=15\n",
        "d=25\n",
        "e*=d\n",
        "print(\"Multi \", e)\n",
        "\n",
        "a /=b\n",
        "print(\"Div \", a)\n",
        "f=15\n",
        "d=25\n",
        "e/=d\n",
        "print(\"Div \", f)\n",
        "\n",
        "a = 123\n",
        "b = 4\n",
        "a %=b\n",
        "print(\"modulus \", a)\n",
        "\n",
        "a = 123\n",
        "b = 4\n",
        "a //=b\n",
        "print(\"floorDivi \", a)\n",
        "\n",
        "a = 10\n",
        "b = 3\n",
        "a **= b\n",
        "print(\"Expo \", a)"
      ],
      "execution_count": 8,
      "outputs": [
        {
          "output_type": "stream",
          "name": "stdout",
          "text": [
            "addition  40\n",
            "sub  15\n",
            "sub  -10\n",
            "Multi  375\n",
            "Multi  375\n",
            "Div  15.0\n",
            "Div  15\n",
            "modulus  3\n",
            "floorDivi  30\n",
            "Expo  1000\n"
          ]
        }
      ]
    },
    {
      "cell_type": "markdown",
      "metadata": {
        "id": "mB_1H9WZJSdT"
      },
      "source": [
        "# Comparision Operator\n",
        "\n",
        "**a = 15**\n",
        "**b = 25**\n",
        "\n",
        "1. a == b # False\n",
        "2. a > b # False\n",
        "3. a < b # True\n",
        "4. a >= b # False\n",
        "5. a <= b # True\n",
        "6. a != b # True  =>!= means not equals to"
      ]
    },
    {
      "cell_type": "code",
      "metadata": {
        "colab": {
          "base_uri": "https://localhost:8080/"
        },
        "id": "BiFKT2feJYo5",
        "outputId": "3802072c-9a64-4505-cd8b-617d8289da86"
      },
      "source": [
        "#numbers\n",
        "a = 15\n",
        "b = 25\n",
        "\n",
        "print(\"a == b: \", a==b)\n",
        "print(\"a > b: \", a>b)\n",
        "print(\"a < b: \", a<b)\n",
        "print(\"a >= b: \", a>=b)\n",
        "print(\"a <= b: \", a<=b)\n",
        "print(\"a != b: \", a != b)"
      ],
      "execution_count": 9,
      "outputs": [
        {
          "output_type": "stream",
          "name": "stdout",
          "text": [
            "a == b:  False\n",
            "a > b:  False\n",
            "a < b:  True\n",
            "a >= b:  False\n",
            "a <= b:  True\n",
            "a != b:  True\n"
          ]
        }
      ]
    },
    {
      "cell_type": "code",
      "metadata": {
        "colab": {
          "base_uri": "https://localhost:8080/"
        },
        "id": "YMMm9OUsJ4tx",
        "outputId": "dfb5cf1b-f20d-4e24-d31b-6ddf6d954447"
      },
      "source": [
        "#booleans\n",
        "a = True\n",
        "b = False\n",
        "\n",
        "print(\"a == b: \", a==b)\n",
        "print(\"a > b: \", a>b)\n",
        "print(\"a < b: \", a<b)\n",
        "print(\"a >= b: \", a>=b)\n",
        "print(\"a <= b: \", a<=b)\n",
        "print(\"a != b: \", a != b)"
      ],
      "execution_count": 10,
      "outputs": [
        {
          "output_type": "stream",
          "name": "stdout",
          "text": [
            "a == b:  False\n",
            "a > b:  True\n",
            "a < b:  False\n",
            "a >= b:  True\n",
            "a <= b:  False\n",
            "a != b:  True\n"
          ]
        }
      ]
    },
    {
      "cell_type": "code",
      "metadata": {
        "colab": {
          "base_uri": "https://localhost:8080/"
        },
        "id": "42VS3FZBKT_Z",
        "outputId": "f879a765-d6aa-4050-cd82-9642c1f75cf6"
      },
      "source": [
        "#strings\n",
        "a = 'Python'\n",
        "b = 'Programming'\n",
        "\n",
        "print(\"a == b: \", a==b)\n",
        "print(\"a > b: \", a>b)\n",
        "print(\"a < b: \", a<b)\n",
        "print(\"a >= b: \", a>=b)\n",
        "print(\"a <= b: \", a<=b)\n",
        "print(\"a != b: \", a != b)\n",
        "#in strings, the value is greater or smaller is depends on the alphabetical assending order eg. if 'r' comes first then 'y' comes it means 'y' is greater than 'r'"
      ],
      "execution_count": 13,
      "outputs": [
        {
          "output_type": "stream",
          "name": "stdout",
          "text": [
            "a == b:  False\n",
            "a > b:  True\n",
            "a < b:  False\n",
            "a >= b:  True\n",
            "a <= b:  False\n",
            "a != b:  True\n"
          ]
        }
      ]
    },
    {
      "cell_type": "code",
      "metadata": {
        "colab": {
          "base_uri": "https://localhost:8080/"
        },
        "id": "vv7vCQNsLVyQ",
        "outputId": "08397f05-b68d-4dc8-9cfd-c288a2790a0b"
      },
      "source": [
        "a = 'PYTHON'\n",
        "b = 'python'\n",
        "\n",
        "print(\"a == b: \", a==b)\n",
        "print(\"a > b: \", a>b)\n",
        "print(\"a < b: \", a<b)\n",
        "print(\"a >= b: \", a>=b)\n",
        "print(\"a <= b: \", a<=b)\n",
        "print(\"a != b: \", a != b)\n",
        "#small letters(lowercase) is greater than capilat letters(uppercase)"
      ],
      "execution_count": 16,
      "outputs": [
        {
          "output_type": "stream",
          "name": "stdout",
          "text": [
            "a == b:  False\n",
            "a > b:  False\n",
            "a < b:  True\n",
            "a >= b:  False\n",
            "a <= b:  True\n",
            "a != b:  True\n"
          ]
        }
      ]
    },
    {
      "cell_type": "code",
      "metadata": {
        "colab": {
          "base_uri": "https://localhost:8080/"
        },
        "id": "y0ZBXdfPME-W",
        "outputId": "5cedaa1f-4a0a-447b-b53c-c3a0ef6b9c27"
      },
      "source": [
        "a = 'pYTHON' #here we use 'p' as small and remaining in capital letters &\n",
        "b = 'Python' #here we use 'p' as capital and remaining in small letters\n",
        "# therefor a is greater than b here\n",
        "\n",
        "print(\"a == b: \", a==b)\n",
        "print(\"a > b: \", a>b)\n",
        "print(\"a < b: \", a<b)\n",
        "print(\"a >= b: \", a>=b)\n",
        "print(\"a <= b: \", a<=b)\n",
        "print(\"a != b: \", a != b)"
      ],
      "execution_count": 18,
      "outputs": [
        {
          "output_type": "stream",
          "name": "stdout",
          "text": [
            "a == b:  False\n",
            "a > b:  True\n",
            "a < b:  False\n",
            "a >= b:  True\n",
            "a <= b:  False\n",
            "a != b:  True\n"
          ]
        }
      ]
    }
  ]
}