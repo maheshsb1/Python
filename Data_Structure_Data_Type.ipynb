{
  "nbformat": 4,
  "nbformat_minor": 0,
  "metadata": {
    "colab": {
      "name": "Data Structure Data Type",
      "provenance": [],
      "collapsed_sections": [],
      "authorship_tag": "ABX9TyOGMz/puh73TBJ6Wh6DjJg4",
      "include_colab_link": true
    },
    "kernelspec": {
      "name": "python3",
      "display_name": "Python 3"
    },
    "language_info": {
      "name": "python"
    }
  },
  "cells": [
    {
      "cell_type": "markdown",
      "metadata": {
        "id": "view-in-github",
        "colab_type": "text"
      },
      "source": [
        "<a href=\"https://colab.research.google.com/github/maheshsb1/Python/blob/Basics/Data_Structure_Data_Type.ipynb\" target=\"_parent\"><img src=\"https://colab.research.google.com/assets/colab-badge.svg\" alt=\"Open In Colab\"/></a>"
      ]
    },
    {
      "cell_type": "code",
      "metadata": {
        "id": "cmeLvULVEzdZ"
      },
      "source": [
        ""
      ],
      "execution_count": null,
      "outputs": []
    },
    {
      "cell_type": "markdown",
      "metadata": {
        "id": "iAgNu33zFGym"
      },
      "source": [
        "Data Structure Data Type\n",
        "1.List []\n",
        "2.Tuple ()\n",
        "3.Set {}\n",
        "4.Dictionary {} Key: Value"
      ]
    },
    {
      "cell_type": "code",
      "metadata": {
        "colab": {
          "base_uri": "https://localhost:8080/"
        },
        "id": "JkRheJI8FkNR",
        "outputId": "04b6789c-06b2-4eaa-8bf5-0c4844fd8b93"
      },
      "source": [
        "# List\n",
        "var_lst = [1,2,3,4]\n",
        "print(var_lst)\n",
        "print(type(var_lst))\n",
        "\n",
        "var_lst= [True,True,False]\n",
        "print(var_lst)\n",
        "print(type(var_lst))\n",
        "\n",
        "var_lst= []\n",
        "print(var_lst)\n",
        "print(type(var_lst))\n",
        "\n",
        "var_lst= [\"a,b,c,d\"]\n",
        "print(var_lst)\n",
        "print(type(var_lst))\n",
        "\n",
        "var_lst= ['a','b','c','d']\n",
        "print(var_lst)\n",
        "print(type(var_lst))"
      ],
      "execution_count": null,
      "outputs": [
        {
          "output_type": "stream",
          "name": "stdout",
          "text": [
            "[1, 2, 3, 4]\n",
            "<class 'list'>\n",
            "[True, True, False]\n",
            "<class 'list'>\n",
            "[]\n",
            "<class 'list'>\n",
            "['a,b,c,d']\n",
            "<class 'list'>\n",
            "['a', 'b', 'c', 'd']\n",
            "<class 'list'>\n"
          ]
        }
      ]
    },
    {
      "cell_type": "markdown",
      "metadata": {
        "id": "efrriZHCIQR0"
      },
      "source": [
        "Slicing\n",
        "+ve indexing & +ve slicing\n",
        "-ve indexing & -ve slicing\n",
        "+ve indexing & -ve slicing\n",
        "-ve indexing & +ve slicing"
      ]
    },
    {
      "cell_type": "code",
      "metadata": {
        "colab": {
          "base_uri": "https://localhost:8080/"
        },
        "id": "HIJpx9GqHiay",
        "outputId": "72bd16c7-a10d-492b-a0c8-9393d11b86b2"
      },
      "source": [
        "#+ve indexing & +ve slicing\n",
        "var_lst= ['apple', 'banana', 'charries', 'dates', 'eggfruits', 'fig']\n",
        "print(var_lst)\n",
        "print(var_lst[0::1])\n",
        "print(var_lst[0:len(var_lst):1])\n",
        "print(var_lst[0:2:1])\n",
        "print(var_lst[1:3:])\n",
        "print(var_lst[4:5:1])\n",
        "print(var_lst[4])"
      ],
      "execution_count": null,
      "outputs": [
        {
          "output_type": "stream",
          "name": "stdout",
          "text": [
            "['apple', 'banana', 'charries', 'dates', 'eggfruits', 'fig']\n",
            "['apple', 'banana', 'charries', 'dates', 'eggfruits', 'fig']\n",
            "['apple', 'banana', 'charries', 'dates', 'eggfruits', 'fig']\n",
            "['apple', 'banana']\n",
            "['banana', 'charries']\n",
            "['eggfruits']\n",
            "eggfruits\n"
          ]
        }
      ]
    },
    {
      "cell_type": "code",
      "metadata": {
        "colab": {
          "base_uri": "https://localhost:8080/"
        },
        "id": "kP8-xKVtKxSL",
        "outputId": "1b8695ff-bc50-4d9c-c2a5-0e5d97182edf"
      },
      "source": [
        "#-ve indexing & -ve slicing\n",
        "var_lst= ['apple', 'banana', 'charries', 'dates', 'eggfruits', 'fig']\n",
        "print(var_lst)\n",
        "print(var_lst[::-1])\n",
        "print(var_lst[-1:-7:-1])\n",
        "print(var_lst[-1::-1])\n",
        "print(var_lst[-4:-7:-1])\n",
        "print(var_lst[-6:-7:-1])\n",
        "print(var_lst[-5:-6:-1])\n",
        "print(var_lst[-5])"
      ],
      "execution_count": null,
      "outputs": [
        {
          "output_type": "stream",
          "name": "stdout",
          "text": [
            "['apple', 'banana', 'charries', 'dates', 'eggfruits', 'fig']\n",
            "['fig', 'eggfruits', 'dates', 'charries', 'banana', 'apple']\n",
            "['fig', 'eggfruits', 'dates', 'charries', 'banana', 'apple']\n",
            "['fig', 'eggfruits', 'dates', 'charries', 'banana', 'apple']\n",
            "['charries', 'banana', 'apple']\n",
            "['apple']\n",
            "['banana']\n",
            "banana\n"
          ]
        }
      ]
    },
    {
      "cell_type": "code",
      "metadata": {
        "colab": {
          "base_uri": "https://localhost:8080/"
        },
        "id": "8OWqcppxL4v8",
        "outputId": "5ebf8171-fae9-4a15-802b-cb4f581d0cf4"
      },
      "source": [
        "#+ve indexing & -ve slicing\n",
        "var_lst= ['apple', 'banana', 'charries', 'dates', 'eggfruits', 'fig']\n",
        "print(var_lst)\n",
        "print(var_lst[6::-1])\n",
        "print(var_lst[6:0:-1])\n",
        "print(var_lst[::-1])\n",
        "print(var_lst[1:0:-1])\n",
        "print(var_lst[2:1:-1])\n",
        "print(var_lst[0::-1])#\n",
        "print(var_lst[0])"
      ],
      "execution_count": null,
      "outputs": [
        {
          "output_type": "stream",
          "name": "stdout",
          "text": [
            "['apple', 'banana', 'charries', 'dates', 'eggfruits', 'fig']\n",
            "['fig', 'eggfruits', 'dates', 'charries', 'banana', 'apple']\n",
            "['fig', 'eggfruits', 'dates', 'charries', 'banana']\n",
            "['fig', 'eggfruits', 'dates', 'charries', 'banana', 'apple']\n",
            "['banana']\n",
            "['charries']\n",
            "['apple']\n",
            "apple\n"
          ]
        }
      ]
    },
    {
      "cell_type": "code",
      "metadata": {
        "colab": {
          "base_uri": "https://localhost:8080/"
        },
        "id": "9hZQeSChODU4",
        "outputId": "d67c7fb1-207a-4fd7-c12d-4f140e1b9113"
      },
      "source": [
        "#-ve indexing & +ve slicing\n",
        "var_lst= ['apple', 'banana', 'charries', 'dates', 'eggfruits', 'fig']\n",
        "print(var_lst)\n",
        "print(var_lst[-6::1])\n",
        "print(var_lst[-6::])\n",
        "print(var_lst[:-4:1])\n",
        "print(var_lst[-6:-5:1])\n",
        "print(var_lst[-4:-3:1])\n",
        "print(var_lst[-4])"
      ],
      "execution_count": null,
      "outputs": [
        {
          "output_type": "stream",
          "name": "stdout",
          "text": [
            "['apple', 'banana', 'charries', 'dates', 'eggfruits', 'fig']\n",
            "['apple', 'banana', 'charries', 'dates', 'eggfruits', 'fig']\n",
            "['apple', 'banana', 'charries', 'dates', 'eggfruits', 'fig']\n",
            "['apple', 'banana']\n",
            "['apple']\n",
            "['charries']\n",
            "charries\n"
          ]
        }
      ]
    }
  ]
}