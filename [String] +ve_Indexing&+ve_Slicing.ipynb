{
  "nbformat": 4,
  "nbformat_minor": 0,
  "metadata": {
    "colab": {
      "name": "Positive_I&Positive_S",
      "provenance": [],
      "collapsed_sections": [],
      "authorship_tag": "ABX9TyNHt9XEe4rDTYYMgV8psXbx",
      "include_colab_link": true
    },
    "kernelspec": {
      "name": "python3",
      "display_name": "Python 3"
    },
    "language_info": {
      "name": "python"
    }
  },
  "cells": [
    {
      "cell_type": "markdown",
      "metadata": {
        "id": "view-in-github",
        "colab_type": "text"
      },
      "source": [
        "<a href=\"https://colab.research.google.com/github/maheshsb1/Python/blob/Basics/Positive_I%26Positive_S.ipynb\" target=\"_parent\"><img src=\"https://colab.research.google.com/assets/colab-badge.svg\" alt=\"Open In Colab\"/></a>"
      ]
    },
    {
      "cell_type": "code",
      "metadata": {
        "colab": {
          "base_uri": "https://localhost:8080/"
        },
        "id": "occvrxm2YtOj",
        "outputId": "d5358891-bd6a-47a2-8fd8-6477007650a7"
      },
      "source": [
        "#Positive Indexing And Positive Slicing\n",
        "\n",
        "#1\n",
        "var_str1= \"Yeh Tera Ghar Yeh Mera Ghar\"\n",
        "print(var_str1)\n",
        "print(var_str1[0:4:1])\n",
        "print(var_str1[:4])\n",
        "print(var_str1[4:9:1])\n",
        "print(var_str1[0:9])\n",
        "print(var_str1[4:])\n",
        "print(var_str1[9:13:1])\n",
        "print(var_str1[0:13])\n",
        "print(var_str1[9:])\n",
        "print(var_str1[14:17:1])\n",
        "print(var_str1[:17])\n",
        "print(var_str1[14:])\n",
        "print(var_str1[18:22:1])\n",
        "print(var_str1[0:22])\n",
        "print(var_str1[18:])\n",
        "print(var_str1[23:27:1])\n",
        "print(var_str1[0:27])\n",
        "print(var_str1[23:])"
      ],
      "execution_count": null,
      "outputs": [
        {
          "output_type": "stream",
          "name": "stdout",
          "text": [
            "Yeh Tera Ghar Yeh Mera Ghar\n",
            "Yeh \n",
            "Yeh \n",
            "Tera \n",
            "Yeh Tera \n",
            "Tera Ghar Yeh Mera Ghar\n",
            "Ghar\n",
            "Yeh Tera Ghar\n",
            "Ghar Yeh Mera Ghar\n",
            "Yeh\n",
            "Yeh Tera Ghar Yeh\n",
            "Yeh Mera Ghar\n",
            "Mera\n",
            "Yeh Tera Ghar Yeh Mera\n",
            "Mera Ghar\n",
            "Ghar\n",
            "Yeh Tera Ghar Yeh Mera Ghar\n",
            "Ghar\n"
          ]
        }
      ]
    },
    {
      "cell_type": "code",
      "metadata": {
        "colab": {
          "base_uri": "https://localhost:8080/"
        },
        "id": "y9B0CXbxcGf1",
        "outputId": "eb7d2aa7-a7e6-424c-ec8d-05f24c0676c3"
      },
      "source": [
        "#2\n",
        "var_str2= \"The Chronicles Of Narnia: The Lion, The Witch And The Wardrobe\"\n",
        "print(var_str2)\n",
        "print(var_str2[0:3:1])\n",
        "print(var_str2[0:3])\n",
        "print(var_str2[0:])\n",
        "print(var_str2[4:13:1])\n",
        "print(var_str2[0:13])\n",
        "print(var_str2[4:])\n",
        "print(var_str2[15:17:1])\n",
        "print(var_str2[:17])\n",
        "print(var_str2[15:])\n",
        "print(var_str2[18:24:1])\n",
        "print(var_str2[0:24])\n",
        "print(var_str2[18:])\n",
        "print(var_str2[24])\n",
        "print(var_str2[26:29:1])\n",
        "print(var_str2[0:29])\n",
        "print(var_str2[26:])\n",
        "print(var_str2[30:34:1])\n",
        "print(var_str2[0:34])\n",
        "print(var_str2[30:])\n",
        "print(var_str2[34])\n",
        "print(var_str2[36:39])\n",
        "print(var_str2[40:45])\n",
        "print(var_str2[46:49])\n",
        "print(var_str2[50:53])\n",
        "print(var_str2[54:62])\n",
        "print(var_str2[54:62:2])\n",
        "print(var_str2[:len(var_str2):3])"
      ],
      "execution_count": null,
      "outputs": [
        {
          "output_type": "stream",
          "name": "stdout",
          "text": [
            "The Chronicles Of Narnia: The Lion, The Witch And The Wardrobe\n",
            "The\n",
            "The\n",
            "The Chronicles Of Narnia: The Lion, The Witch And The Wardrobe\n",
            "Chronicle\n",
            "The Chronicle\n",
            "Chronicles Of Narnia: The Lion, The Witch And The Wardrobe\n",
            "Of\n",
            "The Chronicles Of\n",
            "Of Narnia: The Lion, The Witch And The Wardrobe\n",
            "Narnia\n",
            "The Chronicles Of Narnia\n",
            "Narnia: The Lion, The Witch And The Wardrobe\n",
            ":\n",
            "The\n",
            "The Chronicles Of Narnia: The\n",
            "The Lion, The Witch And The Wardrobe\n",
            "Lion\n",
            "The Chronicles Of Narnia: The Lion\n",
            "Lion, The Witch And The Wardrobe\n",
            ",\n",
            "The\n",
            "Witch\n",
            "And\n",
            "The\n",
            "Wardrobe\n",
            "Wrrb\n",
            "T rieONn:hLnT t dhWdb\n"
          ]
        }
      ]
    },
    {
      "cell_type": "code",
      "metadata": {
        "colab": {
          "base_uri": "https://localhost:8080/"
        },
        "id": "_3OglJGOiaKo",
        "outputId": "5020c802-605a-4a5d-fcf9-8da7b340d5b6"
      },
      "source": [
        "#3\n",
        "var_str3= \"Borat: Cultural Learning Of America For Make Benefit Glorious Nation Of Kazakhstan\"\n",
        "print(var_str3)\n",
        "print(var_str3[0:5:])\n",
        "print(var_str3[:5])\n",
        "print(var_str3[0:])\n",
        "print(var_str3[5])\n",
        "print(var_str3[7:15:])\n",
        "print(var_str3[:15])\n",
        "print(var_str3[7:])\n",
        "print(var_str3[16:24:])\n",
        "print(var_str3[:24])\n",
        "print(var_str3[16:])\n",
        "print(var_str3[25:27:1])\n",
        "print(var_str3[:27])\n",
        "print(var_str3[25:])\n",
        "print(var_str3[28:35:])\n",
        "print(var_str3[:35])\n",
        "print(var_str3[28:])\n",
        "print(var_str3[36:39:])\n",
        "print(var_str3[:39])\n",
        "print(var_str3[36:])\n",
        "print(var_str3[40:44:1])\n",
        "print(var_str3[:44])\n",
        "print(var_str3[40:])\n",
        "print(var_str3[45:52:])\n",
        "print(var_str3[:52])\n",
        "print(var_str3[45:])\n",
        "print(var_str3[53:61])\n",
        "print(var_str3[62:68])\n",
        "print(var_str3[69:71])\n",
        "print(var_str3[72:82])\n",
        "print(var_str3[0:len(var_str3):2])"
      ],
      "execution_count": null,
      "outputs": [
        {
          "output_type": "stream",
          "name": "stdout",
          "text": [
            "Borat: Cultural Learning Of America For Make Benefit Glorious Nation Of Kazakhstan\n",
            "Borat\n",
            "Borat\n",
            "Borat: Cultural Learning Of America For Make Benefit Glorious Nation Of Kazakhstan\n",
            ":\n",
            "Cultural\n",
            "Borat: Cultural\n",
            "Cultural Learning Of America For Make Benefit Glorious Nation Of Kazakhstan\n",
            "Learning\n",
            "Borat: Cultural Learning\n",
            "Learning Of America For Make Benefit Glorious Nation Of Kazakhstan\n",
            "Of\n",
            "Borat: Cultural Learning Of\n",
            "Of America For Make Benefit Glorious Nation Of Kazakhstan\n",
            "America\n",
            "Borat: Cultural Learning Of America\n",
            "America For Make Benefit Glorious Nation Of Kazakhstan\n",
            "For\n",
            "Borat: Cultural Learning Of America For\n",
            "For Make Benefit Glorious Nation Of Kazakhstan\n",
            "Make\n",
            "Borat: Cultural Learning Of America For Make\n",
            "Make Benefit Glorious Nation Of Kazakhstan\n",
            "Benefit\n",
            "Borat: Cultural Learning Of America For Make Benefit\n",
            "Benefit Glorious Nation Of Kazakhstan\n",
            "Glorious\n",
            "Nation\n",
            "Of\n",
            "Kazakhstan\n",
            "Brt utrlLann fAeiaFrMk eei lrosNto fKzksa\n"
          ]
        }
      ]
    },
    {
      "cell_type": "code",
      "metadata": {
        "colab": {
          "base_uri": "https://localhost:8080/"
        },
        "id": "3Un875OgmwzF",
        "outputId": "9c774997-8082-4afc-87d8-d2ddbbe07697"
      },
      "source": [
        "#4\n",
        "var_str4= \"Dr. Strangelove Or: How I Learned To Stop Worrying And Love The Bomb\"\n",
        "print(var_str4)\n",
        "print(var_str4[0:2:2])\n",
        "print(var_str4[:2])\n",
        "print(var_str4[0:])\n",
        "print(var_str4[4:15:])\n",
        "print(var_str4[:15])\n",
        "print(var_str4[4:])\n",
        "print(var_str4[16:18:])\n",
        "print(var_str4[:18])\n",
        "print(var_str4[16:])\n",
        "print(var_str4[18])\n",
        "print(var_str4[20:23:])\n",
        "print(var_str4[:23])\n",
        "print(var_str4[20:])\n",
        "print(var_str4[24])\n",
        "print(var_str4[26:33:1])\n",
        "print(var_str4[:33])\n",
        "print(var_str4[26:])\n",
        "print(var_str4[34:36:])\n",
        "print(var_str4[37:41])\n",
        "print(var_str4[42:50])\n",
        "print(var_str4[51:54])\n",
        "print(var_str4[55:59])\n",
        "print(var_str4[60:63])\n",
        "print(var_str4[64:68])\n",
        "print(var_str4[:len(var_str4):2])\n",
        "print(var_str4[:len(var_str4):4])"
      ],
      "execution_count": null,
      "outputs": [
        {
          "output_type": "stream",
          "name": "stdout",
          "text": [
            "Dr. Strangelove Or: How I Learned To Stop Worrying And Love The Bomb\n",
            "D\n",
            "Dr\n",
            "Dr. Strangelove Or: How I Learned To Stop Worrying And Love The Bomb\n",
            "Strangelove\n",
            "Dr. Strangelove\n",
            "Strangelove Or: How I Learned To Stop Worrying And Love The Bomb\n",
            "Or\n",
            "Dr. Strangelove Or\n",
            "Or: How I Learned To Stop Worrying And Love The Bomb\n",
            ":\n",
            "How\n",
            "Dr. Strangelove Or: How\n",
            "How I Learned To Stop Worrying And Love The Bomb\n",
            "I\n",
            "Learned\n",
            "Dr. Strangelove Or: How I Learned\n",
            "Learned To Stop Worrying And Love The Bomb\n",
            "To\n",
            "Stop\n",
            "Worrying\n",
            "And\n",
            "Love\n",
            "The\n",
            "Bomb\n",
            "D.SrneoeO:HwILandT tpWryn n oeTeBm\n",
            "DSnoOHIad prnnoTB\n"
          ]
        }
      ]
    },
    {
      "cell_type": "code",
      "metadata": {
        "colab": {
          "base_uri": "https://localhost:8080/"
        },
        "id": "H5Nl8TYOqzBB",
        "outputId": "c75b8726-918d-448d-d485-0f1a92b80f54"
      },
      "source": [
        "#5\n",
        "var_str5=\"I Killed My Lesbian Wife, Hung Her On A Meat\"\n",
        "print(var_str5)\n",
        "print(var_str5[0:1:1])\n",
        "print(var_str5[2:8:])\n",
        "print(var_str5[:9])\n",
        "print(var_str5[2:])\n",
        "print(var_str5[9:11:])\n",
        "print(var_str5[12:19:2])\n",
        "print(var_str5[20:24:1])\n",
        "print(var_str5[24])\n",
        "print(var_str5[24:25])\n",
        "print(var_str5[26:30:1])\n",
        "print(var_str5[31:34])\n",
        "print(var_str5[35:37])\n",
        "print(var_str5[38])\n",
        "print(var_str5[38:39])\n",
        "print(var_str5[40:44])"
      ],
      "execution_count": null,
      "outputs": [
        {
          "output_type": "stream",
          "name": "stdout",
          "text": [
            "I Killed My Lesbian Wife, Hung Her On A Meat\n",
            "I\n",
            "Killed\n",
            "I Killed \n",
            "Killed My Lesbian Wife, Hung Her On A Meat\n",
            "My\n",
            "Lsin\n",
            "Wife\n",
            ",\n",
            ",\n",
            "Hung\n",
            "Her\n",
            "On\n",
            "A\n",
            "A\n",
            "Meat\n"
          ]
        }
      ]
    }
  ]
}
