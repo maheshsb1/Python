{
  "nbformat": 4,
  "nbformat_minor": 0,
  "metadata": {
    "colab": {
      "name": "Tuple Inbuilt Function",
      "provenance": [],
      "collapsed_sections": [],
      "authorship_tag": "ABX9TyOj+e0sqTIlv1MW5DMBHt62",
      "include_colab_link": true
    },
    "kernelspec": {
      "name": "python3",
      "display_name": "Python 3"
    },
    "language_info": {
      "name": "python"
    }
  },
  "cells": [
    {
      "cell_type": "markdown",
      "metadata": {
        "id": "view-in-github",
        "colab_type": "text"
      },
      "source": [
        "<a href=\"https://colab.research.google.com/github/maheshsb1/Python/blob/Basics/Tuple_Inbuilt_Function.ipynb\" target=\"_parent\"><img src=\"https://colab.research.google.com/assets/colab-badge.svg\" alt=\"Open In Colab\"/></a>"
      ]
    },
    {
      "cell_type": "code",
      "metadata": {
        "colab": {
          "base_uri": "https://localhost:8080/"
        },
        "id": "WsL487WGjhWi",
        "outputId": "0d99cf18-6620-41fd-f95f-866ed585b25d"
      },
      "source": [
        "#Tuple Inbuilt Function\n",
        "#1. count\n",
        "var_tuple= ('apple', 'banana','dates', 'charries', 'dates', 'eggfruits', 'fig','mango','dates','fig')\n",
        "print(var_tuple)\n",
        "\n",
        "print(var_tuple.count('apple'))\n",
        "print(var_tuple.count('dates'))\n",
        "print(var_tuple.count('fig'))"
      ],
      "execution_count": 5,
      "outputs": [
        {
          "output_type": "stream",
          "name": "stdout",
          "text": [
            "('apple', 'banana', 'dates', 'charries', 'dates', 'eggfruits', 'fig', 'mango', 'dates', 'fig')\n",
            "1\n",
            "3\n",
            "2\n"
          ]
        }
      ]
    },
    {
      "cell_type": "code",
      "metadata": {
        "colab": {
          "base_uri": "https://localhost:8080/"
        },
        "id": "Cyy8AOghlXOO",
        "outputId": "1ed32d3c-9e26-4105-d697-617efd95e9e7"
      },
      "source": [
        "#2. index\n",
        "var_tuple= ('apple', 'banana', 'charries', 'dates', 'eggfruits', 'fig','mango')\n",
        "print(var_tuple)\n",
        "\n",
        "print(var_tuple.index('apple'))\n",
        "print(var_tuple.index('mango'))\n",
        "print(var_tuple.index('dates'))"
      ],
      "execution_count": 7,
      "outputs": [
        {
          "output_type": "stream",
          "name": "stdout",
          "text": [
            "('apple', 'banana', 'charries', 'dates', 'eggfruits', 'fig', 'mango')\n",
            "0\n",
            "6\n",
            "3\n"
          ]
        }
      ]
    }
  ]
}