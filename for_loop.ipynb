{
  "nbformat": 4,
  "nbformat_minor": 0,
  "metadata": {
    "colab": {
      "name": "for loop.ipynb",
      "provenance": [],
      "collapsed_sections": [],
      "authorship_tag": "ABX9TyMBwfDvin4D48GuEW9dK3KA",
      "include_colab_link": true
    },
    "kernelspec": {
      "name": "python3",
      "display_name": "Python 3"
    },
    "language_info": {
      "name": "python"
    }
  },
  "cells": [
    {
      "cell_type": "markdown",
      "metadata": {
        "id": "view-in-github",
        "colab_type": "text"
      },
      "source": [
        "<a href=\"https://colab.research.google.com/github/maheshsb1/Python/blob/Loops/for_loop.ipynb\" target=\"_parent\"><img src=\"https://colab.research.google.com/assets/colab-badge.svg\" alt=\"Open In Colab\"/></a>"
      ]
    },
    {
      "cell_type": "markdown",
      "metadata": {
        "id": "pRKPFr9g-Mq_"
      },
      "source": [
        "#for loop\n",
        "for, for-else, for-if-else"
      ]
    },
    {
      "cell_type": "code",
      "metadata": {
        "colab": {
          "base_uri": "https://localhost:8080/"
        },
        "id": "v0l2LAr9-E76",
        "outputId": "21826804-856a-4c7f-a463-cebf2ffa2f98"
      },
      "source": [
        "#for loop\n",
        "for i in range (0,10):\n",
        "  print('for i in range (0,10):', i)\n",
        "\n",
        "for i in range (15,28):#(1st element, 2nd elemenr)#2nd element-> n#rule apply here (n-1)\n",
        "  print('i:',i)"
      ],
      "execution_count": 3,
      "outputs": [
        {
          "output_type": "stream",
          "name": "stdout",
          "text": [
            "for i in range (0,10): 0\n",
            "for i in range (0,10): 1\n",
            "for i in range (0,10): 2\n",
            "for i in range (0,10): 3\n",
            "for i in range (0,10): 4\n",
            "for i in range (0,10): 5\n",
            "for i in range (0,10): 6\n",
            "for i in range (0,10): 7\n",
            "for i in range (0,10): 8\n",
            "for i in range (0,10): 9\n",
            "i: 15\n",
            "i: 16\n",
            "i: 17\n",
            "i: 18\n",
            "i: 19\n",
            "i: 20\n",
            "i: 21\n",
            "i: 22\n",
            "i: 23\n",
            "i: 24\n",
            "i: 25\n",
            "i: 26\n",
            "i: 27\n"
          ]
        }
      ]
    },
    {
      "cell_type": "code",
      "metadata": {
        "colab": {
          "base_uri": "https://localhost:8080/"
        },
        "id": "W3HYLAnh_odS",
        "outputId": "42f46e00-420e-43e3-e8b2-1796da5c9dc3"
      },
      "source": [
        "#for-else\n",
        "for i in range(10,19):\n",
        "  print('i:',i)\n",
        "else:\n",
        "  print('we are at else section')\n",
        "\n",
        "for a in range(15,21):\n",
        "  print('a:', a)\n",
        "else:\n",
        "  print('we are at else section')\n"
      ],
      "execution_count": 8,
      "outputs": [
        {
          "output_type": "stream",
          "name": "stdout",
          "text": [
            "i: 10\n",
            "i: 11\n",
            "i: 12\n",
            "i: 13\n",
            "i: 14\n",
            "i: 15\n",
            "i: 16\n",
            "i: 17\n",
            "i: 18\n",
            "we are at else section\n",
            "a: 15\n",
            "a: 16\n",
            "a: 17\n",
            "a: 18\n",
            "a: 19\n",
            "a: 20\n",
            "we are at else section\n"
          ]
        }
      ]
    },
    {
      "cell_type": "code",
      "metadata": {
        "colab": {
          "base_uri": "https://localhost:8080/"
        },
        "id": "h9jxHahcArDu",
        "outputId": "152f1657-d287-4ab5-c6d0-eead2dd32f66"
      },
      "source": [
        "#Break(for-if-else)\n",
        "for i in range(10,19):\n",
        "  print('a:', i)\n",
        "  if(i==15):\n",
        "    break\n",
        "else:\n",
        "  print('we are in else section')\n",
        "\n",
        "\n",
        "for i in range(70,80):\n",
        "  print('i:', i)\n",
        "  if (i==76):\n",
        "    break\n",
        "  else:\n",
        "    print('we are in else section')#here else is in blow the if condition so it prints the ('we are....')untill it break on 76\n",
        "\n",
        "for i in range(70,80):\n",
        "  print('a:',i)\n",
        "  if(i==76):\n",
        "    break\n",
        "else:\n",
        "  print('we are in else section')        "
      ],
      "execution_count": 26,
      "outputs": [
        {
          "output_type": "stream",
          "name": "stdout",
          "text": [
            "a: 10\n",
            "a: 11\n",
            "a: 12\n",
            "a: 13\n",
            "a: 14\n",
            "a: 15\n",
            "i: 70\n",
            "we are in else section\n",
            "i: 71\n",
            "we are in else section\n",
            "i: 72\n",
            "we are in else section\n",
            "i: 73\n",
            "we are in else section\n",
            "i: 74\n",
            "we are in else section\n",
            "i: 75\n",
            "we are in else section\n",
            "i: 76\n",
            "a: 70\n",
            "a: 71\n",
            "a: 72\n",
            "a: 73\n",
            "a: 74\n",
            "a: 75\n",
            "a: 76\n"
          ]
        }
      ]
    },
    {
      "cell_type": "code",
      "metadata": {
        "colab": {
          "base_uri": "https://localhost:8080/"
        },
        "id": "KWbLvI8_Ep1v",
        "outputId": "4ec4370d-2587-43aa-c35a-2a36fa1ad26f"
      },
      "source": [
        "#continue(for-if-else)\n",
        "for i in range(15,25):\n",
        "  if(i==20):\n",
        "    continue\n",
        "  print('i:',i)\n",
        "else:\n",
        "  print('we are in else section')    \n",
        "\n",
        "for i in range(15,25):\n",
        "  if(i==20):\n",
        "    continue\n",
        "    print('i:',i)#here print is in below of continue command, so it will not print for command ie.range\n",
        "else:\n",
        "  print('we are in else section')   "
      ],
      "execution_count": 30,
      "outputs": [
        {
          "output_type": "stream",
          "name": "stdout",
          "text": [
            "i: 15\n",
            "i: 16\n",
            "i: 17\n",
            "i: 18\n",
            "i: 19\n",
            "i: 21\n",
            "i: 22\n",
            "i: 23\n",
            "i: 24\n",
            "we are in else section\n",
            "we are in else section\n"
          ]
        }
      ]
    },
    {
      "cell_type": "code",
      "metadata": {
        "colab": {
          "base_uri": "https://localhost:8080/"
        },
        "id": "AZ2esyABGamX",
        "outputId": "17c148b0-b8d7-4d39-ab8d-79b5d2445163"
      },
      "source": [
        "#Nested for\n",
        "for i in range(1,11):\n",
        "  for j in range(1,11):\n",
        "    print(i*j, end=' ')\n",
        "  print('\\r')  \n",
        "\n",
        "\n",
        "\n"
      ],
      "execution_count": 34,
      "outputs": [
        {
          "output_type": "stream",
          "name": "stdout",
          "text": [
            "1 2 3 4 5 6 7 8 9 10 \r\n",
            "2 4 6 8 10 12 14 16 18 20 \r\n",
            "3 6 9 12 15 18 21 24 27 30 \r\n",
            "4 8 12 16 20 24 28 32 36 40 \r\n",
            "5 10 15 20 25 30 35 40 45 50 \r\n",
            "6 12 18 24 30 36 42 48 54 60 \r\n",
            "7 14 21 28 35 42 49 56 63 70 \r\n",
            "8 16 24 32 40 48 56 64 72 80 \r\n",
            "9 18 27 36 45 54 63 72 81 90 \r\n",
            "10 20 30 40 50 60 70 80 90 100 \r\n"
          ]
        }
      ]
    },
    {
      "cell_type": "code",
      "metadata": {
        "colab": {
          "base_uri": "https://localhost:8080/"
        },
        "id": "wlzt6mayHSEz",
        "outputId": "f8336a35-87c6-45c3-e7ce-8b596f43fd45"
      },
      "source": [
        "for i in range(1,11):\n",
        "  for j in range(1,11):\n",
        "    print(i*j)#when we remove the end'  '(end space)\n",
        "  print('\\r')  "
      ],
      "execution_count": 35,
      "outputs": [
        {
          "output_type": "stream",
          "name": "stdout",
          "text": [
            "1\n",
            "2\n",
            "3\n",
            "4\n",
            "5\n",
            "6\n",
            "7\n",
            "8\n",
            "9\n",
            "10\n",
            "\r\n",
            "2\n",
            "4\n",
            "6\n",
            "8\n",
            "10\n",
            "12\n",
            "14\n",
            "16\n",
            "18\n",
            "20\n",
            "\r\n",
            "3\n",
            "6\n",
            "9\n",
            "12\n",
            "15\n",
            "18\n",
            "21\n",
            "24\n",
            "27\n",
            "30\n",
            "\r\n",
            "4\n",
            "8\n",
            "12\n",
            "16\n",
            "20\n",
            "24\n",
            "28\n",
            "32\n",
            "36\n",
            "40\n",
            "\r\n",
            "5\n",
            "10\n",
            "15\n",
            "20\n",
            "25\n",
            "30\n",
            "35\n",
            "40\n",
            "45\n",
            "50\n",
            "\r\n",
            "6\n",
            "12\n",
            "18\n",
            "24\n",
            "30\n",
            "36\n",
            "42\n",
            "48\n",
            "54\n",
            "60\n",
            "\r\n",
            "7\n",
            "14\n",
            "21\n",
            "28\n",
            "35\n",
            "42\n",
            "49\n",
            "56\n",
            "63\n",
            "70\n",
            "\r\n",
            "8\n",
            "16\n",
            "24\n",
            "32\n",
            "40\n",
            "48\n",
            "56\n",
            "64\n",
            "72\n",
            "80\n",
            "\r\n",
            "9\n",
            "18\n",
            "27\n",
            "36\n",
            "45\n",
            "54\n",
            "63\n",
            "72\n",
            "81\n",
            "90\n",
            "\r\n",
            "10\n",
            "20\n",
            "30\n",
            "40\n",
            "50\n",
            "60\n",
            "70\n",
            "80\n",
            "90\n",
            "100\n",
            "\r\n"
          ]
        }
      ]
    },
    {
      "cell_type": "code",
      "metadata": {
        "colab": {
          "base_uri": "https://localhost:8080/"
        },
        "id": "hQZ7RdbHHmNa",
        "outputId": "54be5633-07f0-4966-d0bb-d871211082a1"
      },
      "source": [
        "for i in range(10,0,-1):\n",
        "  for j in range(10,0,-1):\n",
        "    print(i*j, end=' ')\n",
        "  print('\\r')  "
      ],
      "execution_count": 38,
      "outputs": [
        {
          "output_type": "stream",
          "name": "stdout",
          "text": [
            "100 90 80 70 60 50 40 30 20 10 \r\n",
            "90 81 72 63 54 45 36 27 18 9 \r\n",
            "80 72 64 56 48 40 32 24 16 8 \r\n",
            "70 63 56 49 42 35 28 21 14 7 \r\n",
            "60 54 48 42 36 30 24 18 12 6 \r\n",
            "50 45 40 35 30 25 20 15 10 5 \r\n",
            "40 36 32 28 24 20 16 12 8 4 \r\n",
            "30 27 24 21 18 15 12 9 6 3 \r\n",
            "20 18 16 14 12 10 8 6 4 2 \r\n",
            "10 9 8 7 6 5 4 3 2 1 \r\n"
          ]
        }
      ]
    },
    {
      "cell_type": "code",
      "metadata": {
        "colab": {
          "base_uri": "https://localhost:8080/"
        },
        "id": "TGET2QKYIuxP",
        "outputId": "a8a4ef39-6995-456e-f1dd-16cce5a58327"
      },
      "source": [
        "for i in range(1,11):\n",
        "  print(i, end=' ')\n",
        "  print('\\r')\n",
        "\n",
        "for i in range(10,0,-1):\n",
        "  print(i, end=' ')\n",
        "  "
      ],
      "execution_count": 44,
      "outputs": [
        {
          "output_type": "stream",
          "name": "stdout",
          "text": [
            "1 \r\n",
            "2 \r\n",
            "3 \r\n",
            "4 \r\n",
            "5 \r\n",
            "6 \r\n",
            "7 \r\n",
            "8 \r\n",
            "9 \r\n",
            "10 \r\n",
            "10 9 8 7 6 5 4 3 2 1 "
          ]
        }
      ]
    }
  ]
}