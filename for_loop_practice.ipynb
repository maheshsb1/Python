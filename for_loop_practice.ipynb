{
  "nbformat": 4,
  "nbformat_minor": 0,
  "metadata": {
    "colab": {
      "name": "for loop practice.ipynb",
      "provenance": [],
      "authorship_tag": "ABX9TyMQo8KEtXwYrJshqYzfL20d",
      "include_colab_link": true
    },
    "kernelspec": {
      "name": "python3",
      "display_name": "Python 3"
    },
    "language_info": {
      "name": "python"
    }
  },
  "cells": [
    {
      "cell_type": "markdown",
      "metadata": {
        "id": "view-in-github",
        "colab_type": "text"
      },
      "source": [
        "<a href=\"https://colab.research.google.com/github/maheshsb1/Python/blob/Loops/for_loop_practice.ipynb\" target=\"_parent\"><img src=\"https://colab.research.google.com/assets/colab-badge.svg\" alt=\"Open In Colab\"/></a>"
      ]
    },
    {
      "cell_type": "code",
      "metadata": {
        "colab": {
          "base_uri": "https://localhost:8080/"
        },
        "id": "NkDlMSQcC-Sq",
        "outputId": "3304a9cc-eecf-4155-9c97-ce66d19672e4"
      },
      "source": [
        "#for loop(prac.)\n",
        "\n",
        "for i in range(10,0,-1):\n",
        "  for j in range(0,i-1):\n",
        "    print(\" \", end=\"\")\n",
        "  for k in range(0, 11-i):\n",
        "    print(\"*\", end=\" \")\n",
        "  print(\"\\r\")  "
      ],
      "execution_count": 4,
      "outputs": [
        {
          "output_type": "stream",
          "name": "stdout",
          "text": [
            "         * \r\n",
            "        * * \r\n",
            "       * * * \r\n",
            "      * * * * \r\n",
            "     * * * * * \r\n",
            "    * * * * * * \r\n",
            "   * * * * * * * \r\n",
            "  * * * * * * * * \r\n",
            " * * * * * * * * * \r\n",
            "* * * * * * * * * * \r\n"
          ]
        }
      ]
    },
    {
      "cell_type": "code",
      "metadata": {
        "colab": {
          "base_uri": "https://localhost:8080/"
        },
        "id": "TMyKjCmyEOuI",
        "outputId": "b588f447-3782-4007-926f-e8e646d63ce5"
      },
      "source": [
        "for i in range(0,10):\n",
        "  for j in range(0,i):\n",
        "    print(\" \", end=\"\")\n",
        "  for k in range(0, 10-i):\n",
        "    print(\"*\", end=\" \")\n",
        "  print(\"\\r\")  "
      ],
      "execution_count": 10,
      "outputs": [
        {
          "output_type": "stream",
          "name": "stdout",
          "text": [
            "* * * * * * * * * * \r\n",
            " * * * * * * * * * \r\n",
            "  * * * * * * * * \r\n",
            "   * * * * * * * \r\n",
            "    * * * * * * \r\n",
            "     * * * * * \r\n",
            "      * * * * \r\n",
            "       * * * \r\n",
            "        * * \r\n",
            "         * \r\n"
          ]
        }
      ]
    },
    {
      "cell_type": "code",
      "metadata": {
        "colab": {
          "base_uri": "https://localhost:8080/"
        },
        "id": "4bN6k4IhE0GY",
        "outputId": "701d46b4-a0f9-4970-a862-3f9c3fa20826"
      },
      "source": [
        "for i in range(0,10):\n",
        "  for j in range(0,i):\n",
        "    print(\" \", end=\"\")\n",
        "  for k in range(0, 10-i):\n",
        "    print(\"*\", end=\" \")\n",
        "  print(\"\\r\")  \n",
        "for i in range(10,0,-1):\n",
        "  for j in range(0,i-1):\n",
        "    print(\" \", end=\"\")\n",
        "  for k in range(0, 11-i):\n",
        "    print(\"*\", end=\" \")\n",
        "  print(\"\\r\")   "
      ],
      "execution_count": 17,
      "outputs": [
        {
          "output_type": "stream",
          "name": "stdout",
          "text": [
            "* * * * * * * * * * \r\n",
            " * * * * * * * * * \r\n",
            "  * * * * * * * * \r\n",
            "   * * * * * * * \r\n",
            "    * * * * * * \r\n",
            "     * * * * * \r\n",
            "      * * * * \r\n",
            "       * * * \r\n",
            "        * * \r\n",
            "         * \r\n",
            "         * \r\n",
            "        * * \r\n",
            "       * * * \r\n",
            "      * * * * \r\n",
            "     * * * * * \r\n",
            "    * * * * * * \r\n",
            "   * * * * * * * \r\n",
            "  * * * * * * * * \r\n",
            " * * * * * * * * * \r\n",
            "* * * * * * * * * * \r\n"
          ]
        }
      ]
    },
    {
      "cell_type": "code",
      "metadata": {
        "colab": {
          "base_uri": "https://localhost:8080/"
        },
        "id": "S6PMQCvzFp2q",
        "outputId": "6aaa8fde-96bc-43b6-bb95-1f93a24002c7"
      },
      "source": [
        "for i in range(10,0,-1):\n",
        "  for j in range(0,i-1):\n",
        "    print(\"\", end=\"\")\n",
        "  for k in range(0, 11-i):\n",
        "    print(\"*\", end=\" \")\n",
        "  print(\"\\r\")  "
      ],
      "execution_count": 18,
      "outputs": [
        {
          "output_type": "stream",
          "name": "stdout",
          "text": [
            "* \r\n",
            "* * \r\n",
            "* * * \r\n",
            "* * * * \r\n",
            "* * * * * \r\n",
            "* * * * * * \r\n",
            "* * * * * * * \r\n",
            "* * * * * * * * \r\n",
            "* * * * * * * * * \r\n",
            "* * * * * * * * * * \r\n"
          ]
        }
      ]
    },
    {
      "cell_type": "code",
      "metadata": {
        "colab": {
          "base_uri": "https://localhost:8080/"
        },
        "id": "S93mceWIFubJ",
        "outputId": "a7d87c68-ce21-43eb-fcc0-2f8839f1ad04"
      },
      "source": [
        "for i in range(10,0,-1):\n",
        "  for j in range(0,i-1):\n",
        "    print(\"*\", end=\" \")\n",
        "  for k in range(0, 11-i):\n",
        "    print(\" \", end=\" \")\n",
        "  print(\"\\r\")  "
      ],
      "execution_count": 21,
      "outputs": [
        {
          "output_type": "stream",
          "name": "stdout",
          "text": [
            "* * * * * * * * *   \r\n",
            "* * * * * * * *     \r\n",
            "* * * * * * *       \r\n",
            "* * * * * *         \r\n",
            "* * * * *           \r\n",
            "* * * *             \r\n",
            "* * *               \r\n",
            "* *                 \r\n",
            "*                   \r\n",
            "                    \r\n"
          ]
        }
      ]
    },
    {
      "cell_type": "code",
      "metadata": {
        "colab": {
          "base_uri": "https://localhost:8080/"
        },
        "id": "1NA22o9CF-3s",
        "outputId": "74071bd7-372c-442f-f41f-c3ebcadd6bf3"
      },
      "source": [
        "for i in range(10,0,-1):\n",
        "  for j in range(0,i-1):\n",
        "    print(\"*\", end=\" \")\n",
        "  for k in range(0, 11-i):\n",
        "    print(\" \", end=\" \")\n",
        "  print(\"\\r\")  \n",
        "for i in range(10,0,-1):\n",
        "  for j in range(0,i-1):\n",
        "    print(\"\", end=\"\")\n",
        "  for k in range(0, 11-i):\n",
        "    print(\"*\", end=\" \")\n",
        "  print(\"\\r\")    "
      ],
      "execution_count": 28,
      "outputs": [
        {
          "output_type": "stream",
          "name": "stdout",
          "text": [
            "* * * * * * * * *   \r\n",
            "* * * * * * * *     \r\n",
            "* * * * * * *       \r\n",
            "* * * * * *         \r\n",
            "* * * * *           \r\n",
            "* * * *             \r\n",
            "* * *               \r\n",
            "* *                 \r\n",
            "*                   \r\n",
            "                    \r\n",
            "* \r\n",
            "* * \r\n",
            "* * * \r\n",
            "* * * * \r\n",
            "* * * * * \r\n",
            "* * * * * * \r\n",
            "* * * * * * * \r\n",
            "* * * * * * * * \r\n",
            "* * * * * * * * * \r\n",
            "* * * * * * * * * * \r\n"
          ]
        }
      ]
    },
    {
      "cell_type": "code",
      "metadata": {
        "colab": {
          "base_uri": "https://localhost:8080/"
        },
        "id": "3xzlBkvIGhC9",
        "outputId": "094e3603-d68a-4c3e-8a89-cbe63dbbf883"
      },
      "source": [
        "for i in range(10,0,-1):\n",
        "  for j in range(0,i-1):\n",
        "    print(\"\", end=\"\")\n",
        "  for k in range(0, 11-i):\n",
        "    print(\"*\", end=\" \")\n",
        "  print(\"\\r\")  \n",
        "for i in range(10,0,-1):\n",
        "  for j in range(0,i-1):\n",
        "    print(\"*\", end=\" \")\n",
        "  for k in range(0, 11-i):\n",
        "    print(\" \", end=\" \")\n",
        "  print(\"\\r\")  "
      ],
      "execution_count": 30,
      "outputs": [
        {
          "output_type": "stream",
          "name": "stdout",
          "text": [
            "* \r\n",
            "* * \r\n",
            "* * * \r\n",
            "* * * * \r\n",
            "* * * * * \r\n",
            "* * * * * * \r\n",
            "* * * * * * * \r\n",
            "* * * * * * * * \r\n",
            "* * * * * * * * * \r\n",
            "* * * * * * * * * * \r\n",
            "* * * * * * * * *   \r\n",
            "* * * * * * * *     \r\n",
            "* * * * * * *       \r\n",
            "* * * * * *         \r\n",
            "* * * * *           \r\n",
            "* * * *             \r\n",
            "* * *               \r\n",
            "* *                 \r\n",
            "*                   \r\n",
            "                    \r\n"
          ]
        }
      ]
    },
    {
      "cell_type": "code",
      "metadata": {
        "colab": {
          "base_uri": "https://localhost:8080/"
        },
        "id": "IvI2mPicHBJh",
        "outputId": "35a5717c-ffa0-432b-ffa5-eb601066804f"
      },
      "source": [
        "for i in range(10,0,-1):\n",
        "  for j in range(0,i-1):\n",
        "    print(\" \", end=\" \")\n",
        "  for k in range(0, 11-i):\n",
        "    print(\"*\", end=\" \")\n",
        "  print(\"\\r\")  \n",
        "for i in range(10,0,-1):\n",
        "  for j in range(0,i-1):\n",
        "    print(\"*\", end=\" \")\n",
        "  for k in range(0, 11-i):\n",
        "    print(\" \", end=\" \")\n",
        "  print(\"\\r\")  "
      ],
      "execution_count": 31,
      "outputs": [
        {
          "output_type": "stream",
          "name": "stdout",
          "text": [
            "                  * \r\n",
            "                * * \r\n",
            "              * * * \r\n",
            "            * * * * \r\n",
            "          * * * * * \r\n",
            "        * * * * * * \r\n",
            "      * * * * * * * \r\n",
            "    * * * * * * * * \r\n",
            "  * * * * * * * * * \r\n",
            "* * * * * * * * * * \r\n",
            "* * * * * * * * *   \r\n",
            "* * * * * * * *     \r\n",
            "* * * * * * *       \r\n",
            "* * * * * *         \r\n",
            "* * * * *           \r\n",
            "* * * *             \r\n",
            "* * *               \r\n",
            "* *                 \r\n",
            "*                   \r\n",
            "                    \r\n"
          ]
        }
      ]
    },
    {
      "cell_type": "code",
      "metadata": {
        "colab": {
          "base_uri": "https://localhost:8080/"
        },
        "id": "RHRWCe0RHO1t",
        "outputId": "15a8c5f8-272d-43aa-b0a0-71f91dbe2248"
      },
      "source": [
        "for i in range(10,0,-1):\n",
        "  for j in range(0,i-1):\n",
        "    print(\" \", end=\" \")\n",
        "  for k in range(0, 11-i):\n",
        "    print(\"*\", end=\" \")\n",
        "  print(\"\\r\")  \n",
        "for i in range(10,0,-1):\n",
        "  for j in range(10,i-1):\n",
        "    print(\" \", end=\" \")\n",
        "  for k in range(0,11-i):\n",
        "    print(\"*\", end=\" \")\n",
        "  print(\"\\r\")  "
      ],
      "execution_count": 51,
      "outputs": [
        {
          "output_type": "stream",
          "name": "stdout",
          "text": [
            "                  * \r\n",
            "                * * \r\n",
            "              * * * \r\n",
            "            * * * * \r\n",
            "          * * * * * \r\n",
            "        * * * * * * \r\n",
            "      * * * * * * * \r\n",
            "    * * * * * * * * \r\n",
            "  * * * * * * * * * \r\n",
            "* * * * * * * * * * \r\n",
            "* \r\n",
            "* * \r\n",
            "* * * \r\n",
            "* * * * \r\n",
            "* * * * * \r\n",
            "* * * * * * \r\n",
            "* * * * * * * \r\n",
            "* * * * * * * * \r\n",
            "* * * * * * * * * \r\n",
            "* * * * * * * * * * \r\n"
          ]
        }
      ]
    },
    {
      "cell_type": "code",
      "metadata": {
        "colab": {
          "base_uri": "https://localhost:8080/"
        },
        "id": "65VosSosJC4b",
        "outputId": "ec0c80ec-ac6b-4cb1-de65-cc061fae2a8c"
      },
      "source": [
        "for i in range(0,10):\n",
        "  for j in range(0,10):\n",
        "    if(i in (0,9)):\n",
        "      print(\"*\", end=\" \")\n",
        "    else:\n",
        "      if(j in (0,9)):\n",
        "        print(\"*\", end=\" \")\n",
        "      else:\n",
        "        print(\" \", end=\" \")\n",
        "  print(\"\\r\")        \n",
        "\n",
        "#or by \n",
        "for i in range(0,10):\n",
        "  for j in range(0,10):\n",
        "    if((i==0)|(i==9)):\n",
        "      print(\"*\", end=\" \")\n",
        "    else:\n",
        "      if((j==0)|(j==9)):\n",
        "        print(\"*\", end=\" \")\n",
        "      else:\n",
        "        print(\" \", end=\" \")\n",
        "  print(\"\\r\")       "
      ],
      "execution_count": 56,
      "outputs": [
        {
          "output_type": "stream",
          "name": "stdout",
          "text": [
            "* * * * * * * * * * \r\n",
            "*                 * \r\n",
            "*                 * \r\n",
            "*                 * \r\n",
            "*                 * \r\n",
            "*                 * \r\n",
            "*                 * \r\n",
            "*                 * \r\n",
            "*                 * \r\n",
            "* * * * * * * * * * \r\n",
            "* * * * * * * * * * \r\n",
            "*                 * \r\n",
            "*                 * \r\n",
            "*                 * \r\n",
            "*                 * \r\n",
            "*                 * \r\n",
            "*                 * \r\n",
            "*                 * \r\n",
            "*                 * \r\n",
            "* * * * * * * * * * \r\n"
          ]
        }
      ]
    }
  ]
}