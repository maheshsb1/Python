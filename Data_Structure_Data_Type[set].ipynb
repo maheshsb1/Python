{
  "nbformat": 4,
  "nbformat_minor": 0,
  "metadata": {
    "colab": {
      "name": "Data Structure Data Type[set]",
      "provenance": [],
      "collapsed_sections": [],
      "authorship_tag": "ABX9TyND7X89hjQDEoetq4Jey8c9",
      "include_colab_link": true
    },
    "kernelspec": {
      "name": "python3",
      "display_name": "Python 3"
    },
    "language_info": {
      "name": "python"
    }
  },
  "cells": [
    {
      "cell_type": "markdown",
      "metadata": {
        "id": "view-in-github",
        "colab_type": "text"
      },
      "source": [
        "<a href=\"https://colab.research.google.com/github/maheshsb1/Python/blob/Data-Structure-Data-Type/Data_Structure_Data_Type%5Bset%5D.ipynb\" target=\"_parent\"><img src=\"https://colab.research.google.com/assets/colab-badge.svg\" alt=\"Open In Colab\"/></a>"
      ]
    },
    {
      "cell_type": "markdown",
      "metadata": {
        "id": "AqiMoMN_mpH3"
      },
      "source": [
        "# Set"
      ]
    },
    {
      "cell_type": "code",
      "metadata": {
        "colab": {
          "base_uri": "https://localhost:8080/"
        },
        "id": "OK2WGwRrndX5",
        "outputId": "9b637f92-7846-4ee2-8b6e-92cc922a8082"
      },
      "source": [
        "#set\n",
        "var_set = {1,2,3,4,5,6}\n",
        "print(var_set)\n",
        "print(type(var_set))\n",
        "\n",
        "var_set = {'apple','banana','cherries','dates'}\n",
        "print(var_set)\n",
        "print(type(var_set))\n",
        "\n",
        "var_set = {1,2,3,4,5,6,1,5,7,4,3,9}#in set no value repeated\n",
        "print(var_set)\n",
        "print(type(var_set))\n",
        "print(len(var_set))\n",
        "\n",
        "var_set = {}\n",
        "print(var_set)\n",
        "print(type(var_set))# empty bracket in set shows the type of dictionary"
      ],
      "execution_count": null,
      "outputs": [
        {
          "output_type": "stream",
          "name": "stdout",
          "text": [
            "{1, 2, 3, 4, 5, 6}\n",
            "<class 'set'>\n",
            "{'dates', 'banana', 'cherries', 'apple'}\n",
            "<class 'set'>\n",
            "{1, 2, 3, 4, 5, 6, 7, 9}\n",
            "<class 'set'>\n",
            "8\n",
            "{}\n",
            "<class 'dict'>\n"
          ]
        }
      ]
    },
    {
      "cell_type": "markdown",
      "metadata": {
        "id": "8xQAVtG4o3Af"
      },
      "source": [
        "#in SET data type No indexing and slicing occurs\n",
        "because the indexing no. of set not fix, it shows randomly o/p"
      ]
    }
  ]
}