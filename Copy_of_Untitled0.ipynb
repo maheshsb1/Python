{
  "nbformat": 4,
  "nbformat_minor": 0,
  "metadata": {
    "colab": {
      "name": "Copy of Untitled0.ipynb",
      "provenance": [],
      "collapsed_sections": [],
      "mount_file_id": "1RIoCjxs367j4FmMfUYL_SvhYMzmHAQi-",
      "authorship_tag": "ABX9TyOLUxTB10Wt2xhQlmkOyUq0",
      "include_colab_link": true
    },
    "kernelspec": {
      "name": "python3",
      "display_name": "Python 3"
    },
    "language_info": {
      "name": "python"
    }
  },
  "cells": [
    {
      "cell_type": "markdown",
      "metadata": {
        "id": "view-in-github",
        "colab_type": "text"
      },
      "source": [
        "<a href=\"https://colab.research.google.com/github/maheshsb1/Python/blob/Basics/Copy_of_Untitled0.ipynb\" target=\"_parent\"><img src=\"https://colab.research.google.com/assets/colab-badge.svg\" alt=\"Open In Colab\"/></a>"
      ]
    },
    {
      "cell_type": "markdown",
      "metadata": {
        "id": "DdO7ylYrR13y"
      },
      "source": [
        ""
      ]
    },
    {
      "cell_type": "markdown",
      "metadata": {
        "id": "fjOkufo4R4x4"
      },
      "source": [
        "PYTHON DATA TYPE\n",
        "A. Standard Data Type\n",
        "1.Number\n",
        "   i.Integer\n",
        "   ii.Float\n",
        "   iii.Complex\n",
        "\n",
        "2.Boolean\n",
        "3.String "
      ]
    },
    {
      "cell_type": "code",
      "metadata": {
        "id": "MQ0Mx2PrR1Dp"
      },
      "source": [
        "# STRING Indexing & Slicing"
      ],
      "execution_count": null,
      "outputs": []
    },
    {
      "cell_type": "code",
      "metadata": {
        "id": "Krv8-zCfh4YZ",
        "colab": {
          "base_uri": "https://localhost:8080/"
        },
        "outputId": "1d063418-ba44-40ed-c23a-c769ce1f4690"
      },
      "source": [
        "#Positive Indexing and Positive Slicing\n",
        "var_str= \"Albert Pinto Ko Gussa Kyoon Ata Hai?\"\n",
        "print(var_str)\n",
        "print(var_str[::])\n",
        "print(var_str[:len(var_str)])\n",
        "print(var_str[0::])\n",
        "print(var_str[::1])"
      ],
      "execution_count": null,
      "outputs": [
        {
          "output_type": "stream",
          "name": "stdout",
          "text": [
            "Albert Pinto Ko Gussa Kyoon Ata Hai?\n",
            "Albert Pinto Ko Gussa Kyoon Ata Hai?\n",
            "Albert Pinto Ko Gussa Kyoon Ata Hai?\n",
            "Albert Pinto Ko Gussa Kyoon Ata Hai?\n",
            "Albert Pinto Ko Gussa Kyoon Ata Hai?\n"
          ]
        }
      ]
    },
    {
      "cell_type": "code",
      "metadata": {
        "id": "au3EvUMyRy6E"
      },
      "source": [
        ""
      ],
      "execution_count": null,
      "outputs": []
    },
    {
      "cell_type": "code",
      "metadata": {
        "colab": {
          "base_uri": "https://localhost:8080/"
        },
        "id": "0GOZDvdAMan8",
        "outputId": "877bc508-0d78-4459-9b49-c7467e02948a"
      },
      "source": [
        "print(var_str[0:6:1])\n",
        "print(var_str[0:6:])\n",
        "print(var_str[:6:])\n",
        "print(var_str[0:6])\n",
        "print(var_str[:6])"
      ],
      "execution_count": null,
      "outputs": [
        {
          "output_type": "stream",
          "name": "stdout",
          "text": [
            "Albert\n",
            "Albert\n",
            "Albert\n",
            "Albert\n",
            "Albert\n"
          ]
        }
      ]
    },
    {
      "cell_type": "code",
      "metadata": {
        "id": "1IWsMRNvL0mZ"
      },
      "source": [
        ""
      ],
      "execution_count": null,
      "outputs": []
    },
    {
      "cell_type": "code",
      "metadata": {
        "colab": {
          "base_uri": "https://localhost:8080/"
        },
        "id": "ER92AS6DNMuw",
        "outputId": "4271f147-a4f7-476f-ade9-6a531e6c9d88"
      },
      "source": [
        "print(var_str[7:12:1])\n",
        "print(var_str[7:12:])\n",
        "print(var_str[7:12])\n",
        "print(var_str[:12])"
      ],
      "execution_count": null,
      "outputs": [
        {
          "output_type": "stream",
          "name": "stdout",
          "text": [
            "Pinto\n",
            "Pinto\n",
            "Pinto\n",
            "Albert Pinto\n"
          ]
        }
      ]
    },
    {
      "cell_type": "code",
      "metadata": {
        "colab": {
          "base_uri": "https://localhost:8080/"
        },
        "id": "PIEV-r7XOXmg",
        "outputId": "ad4a2b1a-26fa-48fc-e0e8-86baa87e616d"
      },
      "source": [
        "print(var_str[32:])\n",
        "print(var_str[32])\n",
        "print(var_str[22:])"
      ],
      "execution_count": null,
      "outputs": [
        {
          "output_type": "stream",
          "name": "stdout",
          "text": [
            "Hai?\n",
            "H\n",
            "Kyoon Ata Hai?\n"
          ]
        }
      ]
    }
  ]
}