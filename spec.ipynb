{
  "nbformat": 4,
  "nbformat_minor": 0,
  "metadata": {
    "colab": {
      "name": "spec.ipynb",
      "provenance": [],
      "collapsed_sections": [],
      "authorship_tag": "ABX9TyNy3sA6H+UvplbOHXJ4OTiv",
      "include_colab_link": true
    },
    "kernelspec": {
      "name": "python3",
      "display_name": "Python 3"
    },
    "language_info": {
      "name": "python"
    }
  },
  "cells": [
    {
      "cell_type": "markdown",
      "metadata": {
        "id": "view-in-github",
        "colab_type": "text"
      },
      "source": [
        "<a href=\"https://colab.research.google.com/github/maheshsb1/Python/blob/Loops/spec.ipynb\" target=\"_parent\"><img src=\"https://colab.research.google.com/assets/colab-badge.svg\" alt=\"Open In Colab\"/></a>"
      ]
    },
    {
      "cell_type": "code",
      "metadata": {
        "colab": {
          "base_uri": "https://localhost:8080/"
        },
        "id": "gwze8YOvRhJc",
        "outputId": "4905b01a-3fb5-4bc5-c7ac-53951065b7cb"
      },
      "source": [
        "#special for loop\n",
        "#using matrix concept\n",
        "for i in range(1,11):\n",
        "  for j in range(1,11):\n",
        "    print('*', end=' ')\n",
        "  print('\\r')  "
      ],
      "execution_count": 1,
      "outputs": [
        {
          "output_type": "stream",
          "name": "stdout",
          "text": [
            "* * * * * * * * * * \r\n",
            "* * * * * * * * * * \r\n",
            "* * * * * * * * * * \r\n",
            "* * * * * * * * * * \r\n",
            "* * * * * * * * * * \r\n",
            "* * * * * * * * * * \r\n",
            "* * * * * * * * * * \r\n",
            "* * * * * * * * * * \r\n",
            "* * * * * * * * * * \r\n",
            "* * * * * * * * * * \r\n"
          ]
        }
      ]
    },
    {
      "cell_type": "code",
      "metadata": {
        "colab": {
          "base_uri": "https://localhost:8080/"
        },
        "id": "vbVckrIYSMxl",
        "outputId": "0290824f-7ad8-407c-a645-304e8fea8fb6"
      },
      "source": [
        "for i in range(0,10):\n",
        "  for j in range(0,10):\n",
        "    if(i in (0,9)):\n",
        "      print('x', end=' ')\n",
        "    else:\n",
        "      if(j in (0,9)):\n",
        "        print('x', end=' ')\n",
        "      else:\n",
        "        print(' ', end=' ')\n",
        "  print('\\r')        "
      ],
      "execution_count": 28,
      "outputs": [
        {
          "output_type": "stream",
          "name": "stdout",
          "text": [
            "x x x x x x x x x x \r\n",
            "x                 x \r\n",
            "x                 x \r\n",
            "x                 x \r\n",
            "x                 x \r\n",
            "x                 x \r\n",
            "x                 x \r\n",
            "x                 x \r\n",
            "x                 x \r\n",
            "x x x x x x x x x x \r\n"
          ]
        }
      ]
    },
    {
      "cell_type": "code",
      "metadata": {
        "colab": {
          "base_uri": "https://localhost:8080/"
        },
        "id": "_r26JjGTVtQT",
        "outputId": "f8eb784f-359f-44f0-d832-68eb6eb57736"
      },
      "source": [
        "for i in range(0,10):\n",
        "  for j in range(0,10):\n",
        "    if(i in (0,9)):\n",
        "      print('+', end=' ')\n",
        "    else:  \n",
        "      if(i in (2,7)):\n",
        "        print('*', end=' ')\n",
        "      else:\n",
        "        if(j in (0,9)):\n",
        "          print('+', end=' ')\n",
        "        else:\n",
        "          if(j in (2,7)):\n",
        "            print('*', end=' ')\n",
        "          else: \n",
        "            print(' ', end=' ')\n",
        "  print('\\r')    "
      ],
      "execution_count": 39,
      "outputs": [
        {
          "output_type": "stream",
          "name": "stdout",
          "text": [
            "+ + + + + + + + + + \r\n",
            "+   *         *   + \r\n",
            "* * * * * * * * * * \r\n",
            "+   *         *   + \r\n",
            "+   *         *   + \r\n",
            "+   *         *   + \r\n",
            "+   *         *   + \r\n",
            "* * * * * * * * * * \r\n",
            "+   *         *   + \r\n",
            "+ + + + + + + + + + \r\n"
          ]
        }
      ]
    },
    {
      "cell_type": "code",
      "metadata": {
        "colab": {
          "base_uri": "https://localhost:8080/"
        },
        "id": "vCNWg7PBZi4H",
        "outputId": "726a2843-ae43-4440-b548-14c02cc01d12"
      },
      "source": [
        "for i in range(0,10):\n",
        "  for j in range(0,10):\n",
        "    if(i in (0,9)):\n",
        "      print('+', end=' ')\n",
        "    else:  \n",
        "      if(i in (2,7)):\n",
        "        print('*', end=' ')\n",
        "      else:  \n",
        "        if(i in (1,8)):\n",
        "          print(' ', end=' ')\n",
        "        else:\n",
        "          if(j in (0,9)):\n",
        "            print('+', end=' ')\n",
        "          else:\n",
        "            if(j in (2,7)):\n",
        "              print('*', end=' ')\n",
        "            else: \n",
        "              if(j in (1,8)):\n",
        "                print(' ', end=' ')\n",
        "              else:  \n",
        "                print(' ', end=' ')\n",
        "  print('\\r')"
      ],
      "execution_count": 44,
      "outputs": [
        {
          "output_type": "stream",
          "name": "stdout",
          "text": [
            "+ + + + + + + + + + \r\n",
            "                    \r\n",
            "* * * * * * * * * * \r\n",
            "+   *         *   + \r\n",
            "+   *         *   + \r\n",
            "+   *         *   + \r\n",
            "+   *         *   + \r\n",
            "* * * * * * * * * * \r\n",
            "                    \r\n",
            "+ + + + + + + + + + \r\n"
          ]
        }
      ]
    }
  ]
}