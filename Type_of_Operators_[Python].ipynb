{
  "nbformat": 4,
  "nbformat_minor": 0,
  "metadata": {
    "colab": {
      "name": " Type of Operators [Python]",
      "provenance": [],
      "collapsed_sections": [],
      "authorship_tag": "ABX9TyOo0/s3elbPq6IpTH3zZ7YZ",
      "include_colab_link": true
    },
    "kernelspec": {
      "name": "python3",
      "display_name": "Python 3"
    },
    "language_info": {
      "name": "python"
    }
  },
  "cells": [
    {
      "cell_type": "markdown",
      "metadata": {
        "id": "view-in-github",
        "colab_type": "text"
      },
      "source": [
        "<a href=\"https://colab.research.google.com/github/maheshsb1/Python/blob/Basics/Type_of_Operators_%5BPython%5D.ipynb\" target=\"_parent\"><img src=\"https://colab.research.google.com/assets/colab-badge.svg\" alt=\"Open In Colab\"/></a>"
      ]
    },
    {
      "cell_type": "markdown",
      "metadata": {
        "id": "yCExw1l3FzRH"
      },
      "source": [
        "Python Basic Mathematical Operator\n",
        "# 1.Arthimatic Operator\n",
        "\n",
        "I. Addition\n",
        "II. Substraction\n",
        "III. Multiplication\n",
        "IV. Division\n",
        "V. Modulus\n",
        "VI. Floor division\n",
        "VII. Exponential"
      ]
    },
    {
      "cell_type": "code",
      "metadata": {
        "colab": {
          "base_uri": "https://localhost:8080/"
        },
        "id": "2m49qvX6GFRY",
        "outputId": "bb8098c2-e1a2-438f-9aea-742b2072a507"
      },
      "source": [
        "a = 56\n",
        "b = 5\n",
        "\n",
        "print(\"Addition: \", a+b)\n",
        "print(\"Substraction: \", a-b)\n",
        "print(\"Division: \", a/b)\n",
        "print(\"Multiplication: \", a*b)\n",
        "print(\"Modulus: \", a%b)\n",
        "print(\"Floor Division: \", a//b)\n",
        "print(\"Exponential: \", a**b)\n",
        "\n",
        "a=2\n",
        "b=10\n",
        "print(\"Exponential: \", a**b)\n",
        "\n",
        "#or\n",
        "a=10\n",
        "b=2\n",
        "print(\"Exponential: \", a**b)"
      ],
      "execution_count": null,
      "outputs": [
        {
          "output_type": "stream",
          "name": "stdout",
          "text": [
            "Addition:  61\n",
            "Substraction:  51\n",
            "Division:  11.2\n",
            "Multiplication:  280\n",
            "Modulus:  1\n",
            "Floor Division:  11\n",
            "Exponential:  550731776\n",
            "Exponential:  1024\n",
            "Exponential:  100\n"
          ]
        }
      ]
    },
    {
      "cell_type": "markdown",
      "metadata": {
        "id": "sOiKEK5-G-M5"
      },
      "source": [
        "# 2.Assignment Operator\n",
        "\n",
        "1. a = a+b => a += b\n",
        "2. a = a-b => a -= b\n",
        "3. a = a*b => a *= b\n",
        "4. a = a/b => a /= b\n",
        "5. a = a%b => a %= b\n",
        "6. a = a//b => a//=b\n",
        "7. a = a**b => a**=b"
      ]
    },
    {
      "cell_type": "code",
      "metadata": {
        "colab": {
          "base_uri": "https://localhost:8080/"
        },
        "id": "mBlyi3NlHAum",
        "outputId": "ffe7172e-642e-4548-db75-56e795d74f83"
      },
      "source": [
        "a = 15\n",
        "b = 25\n",
        "\n",
        "a += b\n",
        "print(\"addition \", a)\n",
        "\n",
        "a-=b\n",
        "print(\"sub \", a)#here value of a is update from a=15 to a=40(ans of addition) value of b remains same\n",
        "c=15\n",
        "d=25\n",
        "c-=d\n",
        "print(\"sub \", c)#now ans for same value but different var. is different\n",
        "\n",
        "a *=b\n",
        "print(\"Multi \", a)#it shows the ans of a & b in which value of a updated to a=15 (ans of a-b)\n",
        "e=15\n",
        "d=25\n",
        "e*=d\n",
        "print(\"Multi \", e)\n",
        "\n",
        "a /=b\n",
        "print(\"Div \", a)\n",
        "f=15\n",
        "d=25\n",
        "e/=d\n",
        "print(\"Div \", f)\n",
        "\n",
        "a = 123\n",
        "b = 4\n",
        "a %=b\n",
        "print(\"modulus \", a)\n",
        "\n",
        "a = 123\n",
        "b = 4\n",
        "a //=b\n",
        "print(\"floorDivi \", a)\n",
        "\n",
        "a = 10\n",
        "b = 3\n",
        "a **= b\n",
        "print(\"Expo \", a)"
      ],
      "execution_count": null,
      "outputs": [
        {
          "output_type": "stream",
          "name": "stdout",
          "text": [
            "addition  40\n",
            "sub  15\n",
            "sub  -10\n",
            "Multi  375\n",
            "Multi  375\n",
            "Div  15.0\n",
            "Div  15\n",
            "modulus  3\n",
            "floorDivi  30\n",
            "Expo  1000\n"
          ]
        }
      ]
    },
    {
      "cell_type": "markdown",
      "metadata": {
        "id": "mB_1H9WZJSdT"
      },
      "source": [
        "# 3.Comparision Operator\n",
        "\n",
        "**a = 15**\n",
        "**b = 25**\n",
        "\n",
        "1. a == b # False\n",
        "2. a > b # False\n",
        "3. a < b # True\n",
        "4. a >= b # False\n",
        "5. a <= b # True\n",
        "6. a != b # True  =>!= means not equals to"
      ]
    },
    {
      "cell_type": "code",
      "metadata": {
        "colab": {
          "base_uri": "https://localhost:8080/"
        },
        "id": "BiFKT2feJYo5",
        "outputId": "3802072c-9a64-4505-cd8b-617d8289da86"
      },
      "source": [
        "#Comparision Operator\n",
        "#Integers\n",
        "a = 15\n",
        "b = 25\n",
        "\n",
        "print(\"a == b: \", a==b)\n",
        "print(\"a > b: \", a>b)\n",
        "print(\"a < b: \", a<b)\n",
        "print(\"a >= b: \", a>=b)\n",
        "print(\"a <= b: \", a<=b)\n",
        "print(\"a != b: \", a != b)"
      ],
      "execution_count": null,
      "outputs": [
        {
          "output_type": "stream",
          "name": "stdout",
          "text": [
            "a == b:  False\n",
            "a > b:  False\n",
            "a < b:  True\n",
            "a >= b:  False\n",
            "a <= b:  True\n",
            "a != b:  True\n"
          ]
        }
      ]
    },
    {
      "cell_type": "code",
      "metadata": {
        "colab": {
          "base_uri": "https://localhost:8080/"
        },
        "id": "YMMm9OUsJ4tx",
        "outputId": "dfb5cf1b-f20d-4e24-d31b-6ddf6d954447"
      },
      "source": [
        "#Comparision Operator\n",
        "#booleans\n",
        "a = True\n",
        "b = False\n",
        "\n",
        "print(\"a == b: \", a==b)\n",
        "print(\"a > b: \", a>b)\n",
        "print(\"a < b: \", a<b)\n",
        "print(\"a >= b: \", a>=b)\n",
        "print(\"a <= b: \", a<=b)\n",
        "print(\"a != b: \", a != b)"
      ],
      "execution_count": null,
      "outputs": [
        {
          "output_type": "stream",
          "name": "stdout",
          "text": [
            "a == b:  False\n",
            "a > b:  True\n",
            "a < b:  False\n",
            "a >= b:  True\n",
            "a <= b:  False\n",
            "a != b:  True\n"
          ]
        }
      ]
    },
    {
      "cell_type": "code",
      "metadata": {
        "colab": {
          "base_uri": "https://localhost:8080/"
        },
        "id": "42VS3FZBKT_Z",
        "outputId": "f879a765-d6aa-4050-cd82-9642c1f75cf6"
      },
      "source": [
        "#Comparision Operator\n",
        "#strings\n",
        "a = 'Python'\n",
        "b = 'Programming'\n",
        "\n",
        "print(\"a == b: \", a==b)\n",
        "print(\"a > b: \", a>b)\n",
        "print(\"a < b: \", a<b)\n",
        "print(\"a >= b: \", a>=b)\n",
        "print(\"a <= b: \", a<=b)\n",
        "print(\"a != b: \", a != b)\n",
        "#in strings, the value is greater or smaller is depends on the alphabetical assending order eg. if 'r' comes first then 'y' comes it means 'y' is greater than 'r'"
      ],
      "execution_count": null,
      "outputs": [
        {
          "output_type": "stream",
          "name": "stdout",
          "text": [
            "a == b:  False\n",
            "a > b:  True\n",
            "a < b:  False\n",
            "a >= b:  True\n",
            "a <= b:  False\n",
            "a != b:  True\n"
          ]
        }
      ]
    },
    {
      "cell_type": "code",
      "metadata": {
        "colab": {
          "base_uri": "https://localhost:8080/"
        },
        "id": "vv7vCQNsLVyQ",
        "outputId": "08397f05-b68d-4dc8-9cfd-c288a2790a0b"
      },
      "source": [
        "a = 'PYTHON'\n",
        "b = 'python'\n",
        "\n",
        "print(\"a == b: \", a==b)\n",
        "print(\"a > b: \", a>b)\n",
        "print(\"a < b: \", a<b)\n",
        "print(\"a >= b: \", a>=b)\n",
        "print(\"a <= b: \", a<=b)\n",
        "print(\"a != b: \", a != b)\n",
        "#small letters(lowercase) is greater than capilat letters(uppercase)"
      ],
      "execution_count": null,
      "outputs": [
        {
          "output_type": "stream",
          "name": "stdout",
          "text": [
            "a == b:  False\n",
            "a > b:  False\n",
            "a < b:  True\n",
            "a >= b:  False\n",
            "a <= b:  True\n",
            "a != b:  True\n"
          ]
        }
      ]
    },
    {
      "cell_type": "code",
      "metadata": {
        "colab": {
          "base_uri": "https://localhost:8080/"
        },
        "id": "y0ZBXdfPME-W",
        "outputId": "5cedaa1f-4a0a-447b-b53c-c3a0ef6b9c27"
      },
      "source": [
        "a = 'pYTHON' #here we use 'p' as small and remaining in capital letters &\n",
        "b = 'Python' #here we use 'p' as capital and remaining in small letters\n",
        "# therefor a is greater than b here\n",
        "\n",
        "print(\"a == b: \", a==b)\n",
        "print(\"a > b: \", a>b)\n",
        "print(\"a < b: \", a<b)\n",
        "print(\"a >= b: \", a>=b)\n",
        "print(\"a <= b: \", a<=b)\n",
        "print(\"a != b: \", a != b)"
      ],
      "execution_count": null,
      "outputs": [
        {
          "output_type": "stream",
          "name": "stdout",
          "text": [
            "a == b:  False\n",
            "a > b:  True\n",
            "a < b:  False\n",
            "a >= b:  True\n",
            "a <= b:  False\n",
            "a != b:  True\n"
          ]
        }
      ]
    },
    {
      "cell_type": "markdown",
      "metadata": {
        "id": "PahC19eigtWn"
      },
      "source": [
        "#4. Logical Operator"
      ]
    },
    {
      "cell_type": "code",
      "metadata": {
        "colab": {
          "base_uri": "https://localhost:8080/"
        },
        "id": "GyOQWWUagrCN",
        "outputId": "d8987d02-44a7-44dd-dfea-54cb18ed49ee"
      },
      "source": [
        "# Logical Operators\n",
        "# (integers)\n",
        "#(and)(&)\n",
        "a = 44\n",
        "b = 33\n",
        "\n",
        "print(\"Logical Operation \", ((a == b) & (a < b)))\n",
        "print(\"Logical Operation \", ((a != b) & (a < b)))\n",
        "print(\"Logical Operation \", ((a != b) & (a > b)))\n",
        "print(\"Logical Operation \", ((a != b) & (a > b)))\n"
      ],
      "execution_count": 1,
      "outputs": [
        {
          "output_type": "stream",
          "name": "stdout",
          "text": [
            "Logical Operation  False\n",
            "Logical Operation  False\n",
            "Logical Operation  True\n",
            "Logical Operation  True\n"
          ]
        }
      ]
    },
    {
      "cell_type": "code",
      "metadata": {
        "colab": {
          "base_uri": "https://localhost:8080/"
        },
        "id": "zSlAmAQnhDvl",
        "outputId": "4c4ae6c6-ed3b-4863-8998-a714f81544eb"
      },
      "source": [
        "# Logical Operators\n",
        "#(boolean)\n",
        "#(and)(&)\n",
        "a = False\n",
        "b = True\n",
        "\n",
        "print(\"Logical Operation \", ((a == b) & (a < b)))\n",
        "print(\"Logical Operation \", ((a != b) & (a < b)))\n",
        "print(\"Logical Operation \", ((a != b) & (a > b)))\n",
        "print(\"Logical Operation \", ((a == b) & (a > b)))\n",
        "\n",
        "a = True\n",
        "b = True\n",
        "\n",
        "print((a == b) & (a < b))\n",
        "print((a != b) & (a < b))\n",
        "print((a != b) & (a > b))\n",
        "print((a == b) & (a > b))\n",
        "\n",
        "a = False\n",
        "b = False\n",
        "\n",
        "print((a == b) & (a < b))\n",
        "print((a != b) & (a < b))\n",
        "print((a != b) & (a > b))\n",
        "print((a == b) & (a > b))"
      ],
      "execution_count": 3,
      "outputs": [
        {
          "output_type": "stream",
          "name": "stdout",
          "text": [
            "Logical Operation  False\n",
            "Logical Operation  True\n",
            "Logical Operation  False\n",
            "Logical Operation  False\n",
            "False\n",
            "False\n",
            "False\n",
            "False\n",
            "False\n",
            "False\n",
            "False\n",
            "False\n"
          ]
        }
      ]
    },
    {
      "cell_type": "code",
      "metadata": {
        "colab": {
          "base_uri": "https://localhost:8080/"
        },
        "id": "toioC4j8iVm3",
        "outputId": "dd2b243e-0d24-4a50-bfe0-2e0d4dfbdd85"
      },
      "source": [
        "# Logical Operators\n",
        "#(string)\n",
        "#(and)(&)\n",
        "a = 'Python'\n",
        "b = 'Programming'\n",
        "\n",
        "print(\"Logical Operation \", ((a == b) & (a < b)))\n",
        "print(\"Logical Operation \", ((a != b) & (a < b)))\n",
        "print(\"Logical Operation \", ((a != b) & (a > b)))\n",
        "print(\"Logical Operation \", ((a == b) & (a > b)))"
      ],
      "execution_count": 4,
      "outputs": [
        {
          "output_type": "stream",
          "name": "stdout",
          "text": [
            "Logical Operation  False\n",
            "Logical Operation  False\n",
            "Logical Operation  True\n",
            "Logical Operation  False\n"
          ]
        }
      ]
    },
    {
      "cell_type": "code",
      "metadata": {
        "colab": {
          "base_uri": "https://localhost:8080/"
        },
        "id": "2IjM_qvYjKMm",
        "outputId": "7baff858-4e8e-4884-a12d-379e031de935"
      },
      "source": [
        "# Logical Operators\n",
        "#(Integers)\n",
        "#(or)(|)\n",
        "a = 246\n",
        "b = 369\n",
        "\n",
        "print(\"Logical Operation \", ((a == b) | (a < b)))\n",
        "print(\"Logical Operation \", ((a != b) | (a < b)))\n",
        "print(\"Logical Operation \", ((a != b) | (a > b)))\n",
        "print(\"Logical Operation \", ((a == b) | (a > b)))"
      ],
      "execution_count": 5,
      "outputs": [
        {
          "output_type": "stream",
          "name": "stdout",
          "text": [
            "Logical Operation  True\n",
            "Logical Operation  True\n",
            "Logical Operation  True\n",
            "Logical Operation  False\n"
          ]
        }
      ]
    },
    {
      "cell_type": "code",
      "metadata": {
        "colab": {
          "base_uri": "https://localhost:8080/"
        },
        "id": "PYpBS3h7jn34",
        "outputId": "1880600c-1dc0-4f63-b0ad-884fa6a32184"
      },
      "source": [
        "# Logical Operators\n",
        "#(Booleans)\n",
        "#(or)(|)\n",
        "a = False\n",
        "b = True\n",
        "\n",
        "print(\"Logical Operation \", ((a == b) | (a < b)))\n",
        "print(\"Logical Operation \", ((a != b) | (a < b)))\n",
        "print(\"Logical Operation \", ((a != b) | (a > b)))\n",
        "print(\"Logical Operation \", ((a == b) | (a > b)))\n",
        "\n",
        "a = True\n",
        "b = True\n",
        "\n",
        "print((a == b) | (a < b))\n",
        "print((a != b) | (a < b))\n",
        "print((a != b) | (a > b))\n",
        "print((a == b) | (a > b))\n",
        "\n",
        "a = False\n",
        "b = False\n",
        "\n",
        "print((a == b) | (a < b))\n",
        "print((a != b) | (a < b))\n",
        "print((a != b) | (a > b))\n",
        "print((a == b) | (a > b))"
      ],
      "execution_count": 6,
      "outputs": [
        {
          "output_type": "stream",
          "name": "stdout",
          "text": [
            "Logical Operation  True\n",
            "Logical Operation  True\n",
            "Logical Operation  True\n",
            "Logical Operation  False\n",
            "True\n",
            "False\n",
            "False\n",
            "True\n",
            "True\n",
            "False\n",
            "False\n",
            "True\n"
          ]
        }
      ]
    },
    {
      "cell_type": "code",
      "metadata": {
        "colab": {
          "base_uri": "https://localhost:8080/"
        },
        "id": "8FROe0oIkTgm",
        "outputId": "f48691bc-6d6b-4673-83d8-db71870c2a39"
      },
      "source": [
        "# Logical Operators\n",
        "#(Strings)\n",
        "#(or)(|)\n",
        "\n",
        "a = 'Python'\n",
        "b = 'PYTHON'\n",
        "\n",
        "print(\"Logical Operation \", ((a == b) | (a < b)))\n",
        "print(\"Logical Operation \", ((a != b) | (a < b)))\n",
        "print(\"Logical Operation \", ((a != b) | (a > b)))\n",
        "print(\"Logical Operation \", ((a == b) | (a > b)))"
      ],
      "execution_count": 7,
      "outputs": [
        {
          "output_type": "stream",
          "name": "stdout",
          "text": [
            "Logical Operation  False\n",
            "Logical Operation  True\n",
            "Logical Operation  True\n",
            "Logical Operation  True\n"
          ]
        }
      ]
    },
    {
      "cell_type": "code",
      "metadata": {
        "colab": {
          "base_uri": "https://localhost:8080/"
        },
        "id": "NSONmoVzk1_Z",
        "outputId": "8e90478b-af92-4fdd-a4cc-66ee98e9d149"
      },
      "source": [
        "# Logical Operators\n",
        "#(Integers)\n",
        "#(nor)(^)\n",
        "a = 548\n",
        "b = 125\n",
        "\n",
        "print(\"Logical Operation \", ((a == b) ^ (a < b)))\n",
        "print(\"Logical Operation \", ((a != b) ^ (a < b)))\n",
        "print(\"Logical Operation \", ((a != b) ^ (a > b)))\n",
        "print(\"Logical Operation \", ((a == b) ^ (a > b)))"
      ],
      "execution_count": 8,
      "outputs": [
        {
          "output_type": "stream",
          "name": "stdout",
          "text": [
            "Logical Operation  False\n",
            "Logical Operation  True\n",
            "Logical Operation  False\n",
            "Logical Operation  True\n"
          ]
        }
      ]
    },
    {
      "cell_type": "code",
      "metadata": {
        "colab": {
          "base_uri": "https://localhost:8080/"
        },
        "id": "s_Xonx9flTo5",
        "outputId": "af4533f9-4e31-4ac2-9177-ca657d426ad9"
      },
      "source": [
        "# Logical Operators\n",
        "#(Booleans)\n",
        "#(nor)(^)\n",
        "a = False\n",
        "b = True\n",
        "\n",
        "print(\"Logical Operation \", ((a == b) ^ (a < b)))\n",
        "print(\"Logical Operation \", ((a != b) ^ (a < b)))\n",
        "print(\"Logical Operation \", ((a != b) ^ (a > b)))\n",
        "print(\"Logical Operation \", ((a == b) ^ (a > b)))\n",
        "\n",
        "a = True\n",
        "b = True\n",
        "\n",
        "print((a == b) ^ (a < b))\n",
        "print((a != b) ^ (a < b))\n",
        "print((a != b) ^ (a > b))\n",
        "print((a == b) ^ (a > b))\n",
        "\n",
        "a = False\n",
        "b = False\n",
        "\n",
        "print((a == b) ^ (a < b))\n",
        "print((a != b) ^ (a < b))\n",
        "print((a != b) ^ (a > b))\n",
        "print((a == b) ^ (a > b))"
      ],
      "execution_count": 9,
      "outputs": [
        {
          "output_type": "stream",
          "name": "stdout",
          "text": [
            "Logical Operation  True\n",
            "Logical Operation  False\n",
            "Logical Operation  True\n",
            "Logical Operation  False\n",
            "True\n",
            "False\n",
            "False\n",
            "True\n",
            "True\n",
            "False\n",
            "False\n",
            "True\n"
          ]
        }
      ]
    },
    {
      "cell_type": "code",
      "metadata": {
        "colab": {
          "base_uri": "https://localhost:8080/"
        },
        "id": "_azKxwEvlvtT",
        "outputId": "a9db3a47-0886-4597-813e-df6183d70452"
      },
      "source": [
        "# Logical Operators\n",
        "#(Strings)\n",
        "#(nor)(^)\n",
        "\n",
        "a = 'python'\n",
        "b = 'pyThon'\n",
        "\n",
        "print(\"Logical Operation \", ((a == b) ^ (a < b)))\n",
        "print(\"Logical Operation \", ((a != b) ^ (a < b)))\n",
        "print(\"Logical Operation \", ((a != b) ^ (a > b)))\n",
        "print(\"Logical Operation \", ((a == b) ^ (a > b)))"
      ],
      "execution_count": 10,
      "outputs": [
        {
          "output_type": "stream",
          "name": "stdout",
          "text": [
            "Logical Operation  False\n",
            "Logical Operation  True\n",
            "Logical Operation  False\n",
            "Logical Operation  True\n"
          ]
        }
      ]
    },
    {
      "cell_type": "code",
      "metadata": {
        "colab": {
          "base_uri": "https://localhost:8080/"
        },
        "id": "dL8Gyyl9mPIc",
        "outputId": "c37f337c-18c3-429e-ec93-456bbd78857d"
      },
      "source": [
        "a = 'PYTHON'\n",
        "b = 'pyThon'\n",
        "\n",
        "print((a == b) ^ (a < b))\n",
        "print((a != b) ^ (a < b))\n",
        "print((a != b) ^ (a > b))\n",
        "print((a == b) ^ (a > b))\n",
        "\n",
        "a = 'p'\n",
        "b = 'PYTHON'\n",
        "\n",
        "print((a == b) ^ (a < b))\n",
        "print((a != b) ^ (a < b))\n",
        "print((a != b) ^ (a > b))\n",
        "print((a == b) ^ (a > b))"
      ],
      "execution_count": 13,
      "outputs": [
        {
          "output_type": "stream",
          "name": "stdout",
          "text": [
            "True\n",
            "False\n",
            "True\n",
            "False\n",
            "False\n",
            "True\n",
            "False\n",
            "True\n"
          ]
        }
      ]
    },
    {
      "cell_type": "markdown",
      "metadata": {
        "id": "HFwmZDDLnBSw"
      },
      "source": [
        "#5. Membership Operator\n",
        "(in, not in)"
      ]
    },
    {
      "cell_type": "code",
      "metadata": {
        "colab": {
          "base_uri": "https://localhost:8080/"
        },
        "id": "-r-iLSR5mWhT",
        "outputId": "7f7c6835-f2d0-478d-f94b-aeec0568e29a"
      },
      "source": [
        "# Membership Operator\n",
        "# (Integers)\n",
        "a = [1,2,3,4,5,6,7,8,9,0]\n",
        "b = 8\n",
        "\n",
        "#print(\"Membership Operator \", a in b)#It shows Iterable error\n",
        "#print(\"Membership Operator \", a not in b)#It shows Iterable error\n",
        "print(\"Membership Operator \", b in a)\n",
        "print(\"Membership Operator \", b not in a)\n",
        "\n",
        "a = [10]\n",
        "b = [10]\n",
        "\n",
        "print(a in b)\n",
        "print(a not in b)\n",
        "print(b in a)\n",
        "print(b not in a)"
      ],
      "execution_count": 20,
      "outputs": [
        {
          "output_type": "stream",
          "name": "stdout",
          "text": [
            "Membership Operator  True\n",
            "Membership Operator  False\n",
            "False\n",
            "True\n",
            "False\n",
            "True\n"
          ]
        }
      ]
    },
    {
      "cell_type": "code",
      "metadata": {
        "colab": {
          "base_uri": "https://localhost:8080/"
        },
        "id": "M-diE4rxnvJe",
        "outputId": "3f56d4f6-8de3-43bb-c901-322cb985bd87"
      },
      "source": [
        "# Membership Operator\n",
        "# (Booleans)\n",
        "a = True\n",
        "b = [True, False, False, True, True]\n",
        "\n",
        "print(\"Membership Operator \", a in b)\n",
        "print(\"Membership Operator \", a not in b)\n",
        "#print(\"Membership Operator \", b in a)#It shows Iterable error\n",
        "#print(\"Membership Operator \", b not in a)#It shows Iterable error"
      ],
      "execution_count": 17,
      "outputs": [
        {
          "output_type": "stream",
          "name": "stdout",
          "text": [
            "Membership Operator  True\n",
            "Membership Operator  False\n"
          ]
        }
      ]
    },
    {
      "cell_type": "code",
      "metadata": {
        "colab": {
          "base_uri": "https://localhost:8080/"
        },
        "id": "7yJg4mbCoUpy",
        "outputId": "2db1de0a-1f2a-4e84-ea03-c86becf88593"
      },
      "source": [
        "# Membership Operator\n",
        "#(Strings)\n",
        "a = 'python'\n",
        "b = ['Python','PYTHON','pythön', 'Pythön']\n",
        "\n",
        "print(\"Membership Operator \", a in b)\n",
        "print(\"Membership Operator \", a not in b)\n",
        "#print(\"Membership Operator \", b in a)#It shows Iterable error\n",
        "#print(\"Membership Operator \", b not in a)#It shows Iterable error"
      ],
      "execution_count": 19,
      "outputs": [
        {
          "output_type": "stream",
          "name": "stdout",
          "text": [
            "Membership Operator  False\n",
            "Membership Operator  True\n"
          ]
        }
      ]
    },
    {
      "cell_type": "markdown",
      "metadata": {
        "id": "BvZ7Ur13ppVZ"
      },
      "source": [
        "#6. Identity Operator\n",
        "(is, is not)"
      ]
    },
    {
      "cell_type": "code",
      "metadata": {
        "colab": {
          "base_uri": "https://localhost:8080/"
        },
        "id": "OkPmgzsgp064",
        "outputId": "00ef54ba-d0e3-413b-f5b0-c86418d70d14"
      },
      "source": [
        "# Identity Operator\n",
        "# (Integers)\n",
        "a = 30\n",
        "b = 45\n",
        "\n",
        "print(\"Identity Operator \", a is b)\n",
        "print(\"Identity Operator \", a is not b)\n",
        "print(\"Identity Operator \", b is a)\n",
        "print(\"Identity Operator \", b is not a)\n",
        "\n",
        "a=25\n",
        "b=25\n",
        "print(a is b)\n",
        "print(a is not b)\n",
        "print(b is a)\n",
        "print(b is not a)\n",
        "\n",
        "\n",
        "print(a is a)\n",
        "print(a is not a)\n",
        "print(b is b)\n",
        "print(b is not b)"
      ],
      "execution_count": 23,
      "outputs": [
        {
          "output_type": "stream",
          "name": "stdout",
          "text": [
            "Identity Operator  False\n",
            "Identity Operator  True\n",
            "Identity Operator  False\n",
            "Identity Operator  True\n",
            "True\n",
            "False\n",
            "True\n",
            "False\n",
            "True\n",
            "False\n",
            "True\n",
            "False\n"
          ]
        }
      ]
    },
    {
      "cell_type": "code",
      "metadata": {
        "colab": {
          "base_uri": "https://localhost:8080/"
        },
        "id": "nWrqPiq6qoWc",
        "outputId": "134a6e77-df38-4ab7-d0b7-9da7095f22b6"
      },
      "source": [
        "# Identity Operator\n",
        "#(booleans)\n",
        "a = True\n",
        "b = False\n",
        "\n",
        "print(\"Identity Operator \", a is b)\n",
        "print(\"Identity Operator \", a is not b)\n",
        "print(\"Identity Operator \", b is a)\n",
        "print(\"Identity Operator \", b is not a)"
      ],
      "execution_count": 24,
      "outputs": [
        {
          "output_type": "stream",
          "name": "stdout",
          "text": [
            "Identity Operator  False\n",
            "Identity Operator  True\n",
            "Identity Operator  False\n",
            "Identity Operator  True\n"
          ]
        }
      ]
    },
    {
      "cell_type": "code",
      "metadata": {
        "colab": {
          "base_uri": "https://localhost:8080/"
        },
        "id": "wVsC_B2lq9iW",
        "outputId": "259f42ac-b727-44b2-a3f0-2fd5619b0f54"
      },
      "source": [
        "# Identity Operator\n",
        "#(Strings)\n",
        "a = 'python'\n",
        "b = 'Python'\n",
        "\n",
        "print(\"Identity Operator \", a is b)\n",
        "print(\"Identity Operator \", a is not b)\n",
        "print(\"Identity Operator \", b is a)\n",
        "print(\"Identity Operator \", b is not a)"
      ],
      "execution_count": 25,
      "outputs": [
        {
          "output_type": "stream",
          "name": "stdout",
          "text": [
            "Identity Operator  False\n",
            "Identity Operator  True\n",
            "Identity Operator  False\n",
            "Identity Operator  True\n"
          ]
        }
      ]
    }
  ]
}