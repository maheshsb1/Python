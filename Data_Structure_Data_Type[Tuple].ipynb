{
  "nbformat": 4,
  "nbformat_minor": 0,
  "metadata": {
    "colab": {
      "name": "Data Structure Data Type[Tuple]",
      "provenance": [],
      "collapsed_sections": [],
      "authorship_tag": "ABX9TyOOOEbg0RFyfCXbpj5zuUMz",
      "include_colab_link": true
    },
    "kernelspec": {
      "name": "python3",
      "display_name": "Python 3"
    },
    "language_info": {
      "name": "python"
    }
  },
  "cells": [
    {
      "cell_type": "markdown",
      "metadata": {
        "id": "view-in-github",
        "colab_type": "text"
      },
      "source": [
        "<a href=\"https://colab.research.google.com/github/maheshsb1/Python/blob/Basics/Data_Structure_Data_Type%5BTuple%5D.ipynb\" target=\"_parent\"><img src=\"https://colab.research.google.com/assets/colab-badge.svg\" alt=\"Open In Colab\"/></a>"
      ]
    },
    {
      "cell_type": "code",
      "metadata": {
        "id": "s4UT5butT5Mg"
      },
      "source": [
        ""
      ],
      "execution_count": null,
      "outputs": []
    },
    {
      "cell_type": "markdown",
      "metadata": {
        "id": "g4r-wIyLZYFp"
      },
      "source": [
        "#Data Structure Data Type [Tuple]"
      ]
    },
    {
      "cell_type": "code",
      "metadata": {
        "colab": {
          "base_uri": "https://localhost:8080/"
        },
        "id": "loagV0GAZmts",
        "outputId": "8d917255-9349-4004-ed3b-726c02fd4190"
      },
      "source": [
        "#Tuple\n",
        "var_tuple = ('apple','banana','cherries','dates')\n",
        "print(var_tuple)\n",
        "print(type(var_tuple))\n",
        "\n",
        "var_tuple = (1,2,3,4,5,6)\n",
        "print(var_tuple)\n",
        "print(type(var_tuple))\n",
        "\n",
        "var_tuple = ('a','b','c',4,5,6,7)\n",
        "print(var_tuple)\n",
        "print(type(var_tuple))"
      ],
      "execution_count": 5,
      "outputs": [
        {
          "output_type": "stream",
          "name": "stdout",
          "text": [
            "('apple', 'banana', 'cherries', 'dates')\n",
            "<class 'tuple'>\n",
            "(1, 2, 3, 4, 5, 6)\n",
            "<class 'tuple'>\n",
            "('a', 'b', 'c', 4, 5, 6, 7)\n",
            "<class 'tuple'>\n"
          ]
        }
      ]
    },
    {
      "cell_type": "markdown",
      "metadata": {
        "id": "TRbUnBSuah_5"
      },
      "source": [
        "#Indexing And Slicing\n",
        "+ve Indexing +ve Slicing\n",
        "-ve Indexing -ve Slicing\n",
        "+ve Indexing -ve Slicing\n",
        "-ve Indexing +ve Slicing\n"
      ]
    },
    {
      "cell_type": "code",
      "metadata": {
        "colab": {
          "base_uri": "https://localhost:8080/"
        },
        "id": "TqeNUb5qa54N",
        "outputId": "fce5498a-c914-4851-a757-b5816f54f379"
      },
      "source": [
        "#+ve indexing +ve slicing\n",
        "var_tuple= ('apple', 'banana', 'charries', 'dates', 'eggfruits', 'fig','mango')\n",
        "print(var_tuple) \n",
        "\n",
        "print(var_tuple[0::1])\n",
        "print(var_tuple[0:len(var_tuple):1])\n",
        "print(var_tuple[0:2:1])\n",
        "print(var_tuple[2:5:])\n",
        "print(var_tuple[0:3:1])\n",
        "print(var_tuple[6:7:1])\n",
        "print(var_tuple[5:6:1])\n",
        "print(var_tuple[5])"
      ],
      "execution_count": 20,
      "outputs": [
        {
          "output_type": "stream",
          "name": "stdout",
          "text": [
            "('apple', 'banana', 'charries', 'dates', 'eggfruits', 'fig', 'mango')\n",
            "('apple', 'banana', 'charries', 'dates', 'eggfruits', 'fig', 'mango')\n",
            "('apple', 'banana', 'charries', 'dates', 'eggfruits', 'fig', 'mango')\n",
            "('apple', 'banana')\n",
            "('charries', 'dates', 'eggfruits')\n",
            "('apple', 'banana', 'charries')\n",
            "('mango',)\n",
            "('fig',)\n",
            "fig\n"
          ]
        }
      ]
    },
    {
      "cell_type": "code",
      "metadata": {
        "colab": {
          "base_uri": "https://localhost:8080/"
        },
        "id": "a4JIfJNJdC9z",
        "outputId": "568e2dc4-ca7d-4287-a1d9-95a2f460fb55"
      },
      "source": [
        "#-ve indexing -ve slicing\n",
        "var_tuple= ('apple', 'banana', 'charries', 'dates', 'eggfruits', 'fig','mango')\n",
        "print(var_tuple)\n",
        "print(var_tuple[::-1])\n",
        "print(var_tuple[-1:-7:-1])\n",
        "print(var_tuple[-1::-1])\n",
        "print(var_tuple[-3:-6:-1])\n",
        "print(var_tuple[-6:-7:-1])\n",
        "print(var_tuple[-6::-1])\n",
        "print(var_tuple[-2:-7:-1])\n",
        "print(var_tuple[-4:-5:-1])\n",
        "print(var_tuple[-4])"
      ],
      "execution_count": 23,
      "outputs": [
        {
          "output_type": "stream",
          "name": "stdout",
          "text": [
            "('apple', 'banana', 'charries', 'dates', 'eggfruits', 'fig', 'mango')\n",
            "('mango', 'fig', 'eggfruits', 'dates', 'charries', 'banana', 'apple')\n",
            "('mango', 'fig', 'eggfruits', 'dates', 'charries', 'banana')\n",
            "('mango', 'fig', 'eggfruits', 'dates', 'charries', 'banana', 'apple')\n",
            "('eggfruits', 'dates', 'charries')\n",
            "('banana',)\n",
            "('banana', 'apple')\n",
            "('fig', 'eggfruits', 'dates', 'charries', 'banana')\n",
            "('dates',)\n",
            "dates\n"
          ]
        }
      ]
    },
    {
      "cell_type": "code",
      "metadata": {
        "colab": {
          "base_uri": "https://localhost:8080/"
        },
        "id": "Ez0lRSYxeE3f",
        "outputId": "f389e8d8-c83d-4c4f-fbcd-6f1ca718136f"
      },
      "source": [
        "#+ve indexing -ve slicing\n",
        "var_tuple= ('apple', 'banana', 'charries', 'dates', 'eggfruits', 'fig','mango')\n",
        "print(var_tuple)\n",
        "print(var_tuple[7::-1])\n",
        "print(var_tuple[7:0:-1])#\n",
        "print(var_tuple[::-1])\n",
        "print(var_tuple[1:0:-1])\n",
        "print(var_tuple[2:1:-1])\n",
        "print(var_tuple[5:0:-1])\n",
        "print(var_tuple[0::-1])#\n",
        "print(var_tuple[0])"
      ],
      "execution_count": 25,
      "outputs": [
        {
          "output_type": "stream",
          "name": "stdout",
          "text": [
            "('apple', 'banana', 'charries', 'dates', 'eggfruits', 'fig', 'mango')\n",
            "('mango', 'fig', 'eggfruits', 'dates', 'charries', 'banana', 'apple')\n",
            "('mango', 'fig', 'eggfruits', 'dates', 'charries', 'banana')\n",
            "('mango', 'fig', 'eggfruits', 'dates', 'charries', 'banana', 'apple')\n",
            "('banana',)\n",
            "('charries',)\n",
            "('fig', 'eggfruits', 'dates', 'charries', 'banana')\n",
            "('apple',)\n",
            "apple\n"
          ]
        }
      ]
    },
    {
      "cell_type": "code",
      "metadata": {
        "colab": {
          "base_uri": "https://localhost:8080/"
        },
        "id": "8NucoeY_f1HU",
        "outputId": "f9a2942d-8c99-4e87-9940-9debd7c5d14a"
      },
      "source": [
        "#-ve indexing +ve slicing\n",
        "var_tuple= ('apple', 'banana', 'charries', 'dates', 'eggfruits', 'fig','mango')\n",
        "print(var_tuple)\n",
        "print(var_tuple[-7::1])\n",
        "print(var_tuple[-7::])\n",
        "print(var_tuple[:-3:1])\n",
        "print(var_tuple[-7:-5:1])\n",
        "print(var_tuple[-6:-1:1])\n",
        "print(var_tuple[-5:-4:1])\n",
        "print(var_tuple[-5])"
      ],
      "execution_count": 27,
      "outputs": [
        {
          "output_type": "stream",
          "name": "stdout",
          "text": [
            "('apple', 'banana', 'charries', 'dates', 'eggfruits', 'fig', 'mango')\n",
            "('apple', 'banana', 'charries', 'dates', 'eggfruits', 'fig', 'mango')\n",
            "('apple', 'banana', 'charries', 'dates', 'eggfruits', 'fig', 'mango')\n",
            "('apple', 'banana', 'charries', 'dates')\n",
            "('apple', 'banana')\n",
            "('banana', 'charries', 'dates', 'eggfruits', 'fig')\n",
            "('charries',)\n",
            "charries\n"
          ]
        }
      ]
    }
  ]
}