{
  "nbformat": 4,
  "nbformat_minor": 0,
  "metadata": {
    "colab": {
      "name": "Set Inbuilt Functions",
      "provenance": [],
      "collapsed_sections": [],
      "authorship_tag": "ABX9TyNxukOYQBAXW3jBfL5bHjAW",
      "include_colab_link": true
    },
    "kernelspec": {
      "name": "python3",
      "display_name": "Python 3"
    },
    "language_info": {
      "name": "python"
    }
  },
  "cells": [
    {
      "cell_type": "markdown",
      "metadata": {
        "id": "view-in-github",
        "colab_type": "text"
      },
      "source": [
        "<a href=\"https://colab.research.google.com/github/maheshsb1/Python/blob/Basics/Set_Inbuilt_Functions.ipynb\" target=\"_parent\"><img src=\"https://colab.research.google.com/assets/colab-badge.svg\" alt=\"Open In Colab\"/></a>"
      ]
    },
    {
      "cell_type": "code",
      "metadata": {
        "colab": {
          "base_uri": "https://localhost:8080/"
        },
        "id": "tog8lwY-puqR",
        "outputId": "51f2b4a6-2429-42ca-cbc0-3d28489f07f2"
      },
      "source": [
        "# Set Inbuilt Functions\n",
        "#1. add\n",
        "var_set = {'apple','banana','dates'}\n",
        "print(var_set)\n",
        "var_set.add('mango')\n",
        "print(var_set)\n",
        "\n",
        "print(var_set.add('grapes'))\n",
        "var_set.add('grapes')\n",
        "print(var_set)"
      ],
      "execution_count": 4,
      "outputs": [
        {
          "output_type": "stream",
          "name": "stdout",
          "text": [
            "{'dates', 'apple', 'banana'}\n",
            "{'mango', 'dates', 'apple', 'banana'}\n",
            "None\n",
            "{'mango', 'dates', 'banana', 'apple', 'grapes'}\n"
          ]
        }
      ]
    },
    {
      "cell_type": "code",
      "metadata": {
        "colab": {
          "base_uri": "https://localhost:8080/"
        },
        "id": "1kuKbA5ssAqS",
        "outputId": "0a51aa5a-88a5-4441-91f8-47c539a01e3d"
      },
      "source": [
        "#2. clear\n",
        "var_set = {'apple','banana','dates'}\n",
        "print(var_set)\n",
        "\n",
        "var_set.clear()\n",
        "print(var_set)"
      ],
      "execution_count": 7,
      "outputs": [
        {
          "output_type": "stream",
          "name": "stdout",
          "text": [
            "{'dates', 'apple', 'banana'}\n",
            "set()\n"
          ]
        }
      ]
    },
    {
      "cell_type": "code",
      "metadata": {
        "colab": {
          "base_uri": "https://localhost:8080/"
        },
        "id": "_RnqXT_KsnBA",
        "outputId": "dc8e2383-3798-4e36-f999-dad20c44c67e"
      },
      "source": [
        "#3. copy\n",
        "var_set_2 = {'apple','banana','dates'}\n",
        "print(var_set)\n",
        "\n",
        "var_set_cp = var_set_2.copy()\n",
        "print(var_set_cp)\n",
        "\n",
        "var_set = {'apple','banana','dates','mango'}\n",
        "var_set_1 = var_set.copy()\n",
        "print(var_set_1)\n",
        "var_set_1 = var_set_2.copy()\n",
        "print(var_set_1)"
      ],
      "execution_count": 10,
      "outputs": [
        {
          "output_type": "stream",
          "name": "stdout",
          "text": [
            "{'mango', 'dates', 'apple', 'banana'}\n",
            "{'dates', 'apple', 'banana'}\n",
            "{'mango', 'dates', 'apple', 'banana'}\n",
            "{'dates', 'apple', 'banana'}\n"
          ]
        }
      ]
    },
    {
      "cell_type": "code",
      "metadata": {
        "colab": {
          "base_uri": "https://localhost:8080/"
        },
        "id": "Qt-zhhYBuIsI",
        "outputId": "28829d39-d50b-4966-fa4b-f45c5bd36449"
      },
      "source": [
        "#4. difference\n",
        "var_a = {1,2,3,4,5,6,7,8,9}\n",
        "var_b = {5,6,7,8,9,10,11,12,13,14}\n",
        "print(var_a.difference(var_b))# it removes repeated value\n",
        "print(var_b.difference(var_a))"
      ],
      "execution_count": 11,
      "outputs": [
        {
          "output_type": "stream",
          "name": "stdout",
          "text": [
            "{1, 2, 3, 4}\n",
            "{10, 11, 12, 13, 14}\n"
          ]
        }
      ]
    },
    {
      "cell_type": "code",
      "metadata": {
        "colab": {
          "base_uri": "https://localhost:8080/"
        },
        "id": "uHeM5E0GvHVn",
        "outputId": "3f656929-29af-4e1e-969c-384fa6d86679"
      },
      "source": [
        "#5. difference_update\n",
        "var_a = {1,2,3,4,5,6,7,8,9}\n",
        "var_b = {5,6,7,8,9,10,11,12,13,14}\n",
        "var_a.difference_update(var_b)#it remove repeated value from var_a and update it to var_b\n",
        "print(var_a)#\n",
        "print(var_b)\n",
        "\n",
        "#also\n",
        "var_a = {1,2,3,4,5,6,7,8,9}\n",
        "var_b = {5,6,7,8,9,10,11,12,13,14}\n",
        "var_b.difference_update(var_a)\n",
        "print(var_a)\n",
        "print(var_b)#it remove repeated value from var_b and update it to var_a\n",
        "\n",
        "var_a = {1,2,3,4,5,6,7,8,9}\n",
        "var_b = {5,6,7,8,9,10,11,12,13,14}\n",
        "var_a.difference_update(var_a)\n",
        "print(var_a)\n",
        "\n",
        "var_a = {1,2,3,4,5}\n",
        "var_b = {9,10,11,12,13,14}\n",
        "var_a.difference_update(var_b)\n",
        "print(var_a)\n",
        "print(var_b)\n"
      ],
      "execution_count": 21,
      "outputs": [
        {
          "output_type": "stream",
          "name": "stdout",
          "text": [
            "{1, 2, 3, 4}\n",
            "{5, 6, 7, 8, 9, 10, 11, 12, 13, 14}\n",
            "{1, 2, 3, 4, 5, 6, 7, 8, 9}\n",
            "{10, 11, 12, 13, 14}\n",
            "set()\n",
            "{1, 2, 3, 4, 5}\n",
            "{9, 10, 11, 12, 13, 14}\n"
          ]
        }
      ]
    },
    {
      "cell_type": "code",
      "metadata": {
        "colab": {
          "base_uri": "https://localhost:8080/"
        },
        "id": "6yJsAgdBwvgZ",
        "outputId": "f3c4ba54-8bfa-4a88-8112-f40f55bca447"
      },
      "source": [
        "#6. discard\n",
        "var_a = {1,2,3,4,5,6,7,8,9}\n",
        "var_a.discard(2)\n",
        "print(var_a)\n",
        "\n",
        "var_b = {'apple','banana','mango','grapes'}\n",
        "var_b.discard('banana')\n",
        "print(var_b)"
      ],
      "execution_count": 23,
      "outputs": [
        {
          "output_type": "stream",
          "name": "stdout",
          "text": [
            "{1, 3, 4, 5, 6, 7, 8, 9}\n",
            "{'mango', 'apple', 'grapes'}\n"
          ]
        }
      ]
    },
    {
      "cell_type": "code",
      "metadata": {
        "colab": {
          "base_uri": "https://localhost:8080/"
        },
        "id": "Xr8e4Tw3yWiJ",
        "outputId": "a77cb2f6-e846-4c06-fbad-5872d3f0ab56"
      },
      "source": [
        "#7. intersection\n",
        "var_a = {1,2,3,4,5,6,7,8,9}\n",
        "var_b = {5,6,7,8,9,10,11,12,13,14}\n",
        "c= var_a.intersection(var_b)#it shows the same value \n",
        "print(c)"
      ],
      "execution_count": 24,
      "outputs": [
        {
          "output_type": "stream",
          "name": "stdout",
          "text": [
            "{5, 6, 7, 8, 9}\n"
          ]
        }
      ]
    },
    {
      "cell_type": "code",
      "metadata": {
        "colab": {
          "base_uri": "https://localhost:8080/"
        },
        "id": "Ym7gz_9byzDQ",
        "outputId": "43f2cd7e-7ffb-4794-d2ea-4c3aeb281707"
      },
      "source": [
        "#8. intersection update\n",
        "var_a = {1,2,3,4,5,6,7,8,9}\n",
        "var_b = {5,6,7,8,9,10,11,12,13,14}\n",
        "var_a.intersection_update(var_b) # it shows same value in var_a and also updates this value in var_b\n",
        "print(var_a)\n",
        "print(var_b)\n",
        "print(var_a,var_b)"
      ],
      "execution_count": 25,
      "outputs": [
        {
          "output_type": "stream",
          "name": "stdout",
          "text": [
            "{5, 6, 7, 8, 9}\n",
            "{5, 6, 7, 8, 9, 10, 11, 12, 13, 14}\n",
            "{5, 6, 7, 8, 9} {5, 6, 7, 8, 9, 10, 11, 12, 13, 14}\n"
          ]
        }
      ]
    },
    {
      "cell_type": "code",
      "metadata": {
        "colab": {
          "base_uri": "https://localhost:8080/"
        },
        "id": "cYbnwKcOznMm",
        "outputId": "9fe887fc-ee6a-4619-885c-987a4a2ab3b2"
      },
      "source": [
        "#9. isdisjoint\n",
        "var_a = {1,2,3,4,5,6,7,8,9}\n",
        "var_b = {5,6,7,8,9,10,11,12,13,14}\n",
        "print(var_a.isdisjoint(var_b))# it shows false when values are repeated \n",
        "print(var_b.isdisjoint(var_a))\n",
        "\n",
        "var_a = {1,2,3,4,5,6,7,8,9}\n",
        "var_b = {10,11,12,13,14}\n",
        "print(var_a.isdisjoint(var_b))# it shows true when values are not repeated \n",
        "print(var_b.isdisjoint(var_a))"
      ],
      "execution_count": 28,
      "outputs": [
        {
          "output_type": "stream",
          "name": "stdout",
          "text": [
            "False\n",
            "False\n",
            "True\n",
            "True\n"
          ]
        }
      ]
    },
    {
      "cell_type": "code",
      "metadata": {
        "colab": {
          "base_uri": "https://localhost:8080/"
        },
        "id": "Dxdxz_wO0mmJ",
        "outputId": "66b10a25-37c0-4985-8ffd-e1411d1c5238"
      },
      "source": [
        "#10. issubset\n",
        "var_a = {5,6,7,8,9}\n",
        "var_b = {5,6,7,8,9,10,11,12,13,14}\n",
        "print(var_a.issubset(var_b)) #it will shows true when whole value of var_a is repeated in Var_b\n",
        "print(var_b.issubset(var_a)) #it will shows false, whole value of var_b is not repeated in var_a\n",
        "\n",
        "var_a = {1,2,3,4,5,6,7,8,9}\n",
        "var_b = {5,6,7,8,9,10,11,12,13,14}\n",
        "print(var_b.issubset(var_a))#it will shows false, whole value of var_b is not repeated in var_a, only few value repeated\n",
        "print(var_a.issubset(var_b))#it will shows false, whole value of var_a is not repeated in var_b, only few value repeated\n",
        "\n",
        "var_a = {1,2,3,4,5,6,7,8,9}\n",
        "var_b = {10,11,12,13,14}\n",
        "print(var_a.issubset(var_b))#it will shows false, no value repeated \n"
      ],
      "execution_count": 36,
      "outputs": [
        {
          "output_type": "stream",
          "name": "stdout",
          "text": [
            "True\n",
            "False\n",
            "False\n",
            "False\n",
            "False\n"
          ]
        }
      ]
    },
    {
      "cell_type": "code",
      "metadata": {
        "colab": {
          "base_uri": "https://localhost:8080/"
        },
        "id": "-LwjF02C3cfB",
        "outputId": "7316d85b-13b9-429e-e609-12efc672e63d"
      },
      "source": [
        "#11. issuperset\n",
        "var_a = {1,2,3,4,5,6,7,8,9}\n",
        "var_b = {1,2,3,4}\n",
        "print(var_a.issuperset(var_b))# it will shows true, whole value of var_b repeated in var_a\n",
        "\n",
        "var_a = {1,2,3,4,5,6,7,8,9}\n",
        "var_b = {10,11,12,13,14}\n",
        "print(var_a.issuperset(var_b))"
      ],
      "execution_count": 40,
      "outputs": [
        {
          "output_type": "stream",
          "name": "stdout",
          "text": [
            "True\n",
            "False\n"
          ]
        }
      ]
    },
    {
      "cell_type": "code",
      "metadata": {
        "colab": {
          "base_uri": "https://localhost:8080/"
        },
        "id": "-j6tOQWd79lV",
        "outputId": "a3b1df10-25a9-408a-e3e0-99e73bb6be52"
      },
      "source": [
        "#12. pop\n",
        "var_a = {'apple','banana','grapes','mango'}\n",
        "var_a.pop()\n",
        "print(var_a)\n",
        "\n",
        "var_b = {1,2,3,4,5,6}\n",
        "var_b.pop()\n",
        "print(var_b)#it remove any of value from set"
      ],
      "execution_count": 49,
      "outputs": [
        {
          "output_type": "stream",
          "name": "stdout",
          "text": [
            "{'apple', 'banana', 'grapes'}\n",
            "{2, 3, 4, 5, 6}\n"
          ]
        }
      ]
    },
    {
      "cell_type": "code",
      "metadata": {
        "colab": {
          "base_uri": "https://localhost:8080/"
        },
        "id": "4HNB5OS0-Rqd",
        "outputId": "f7c38955-9bb6-4e83-ef03-a93e07d3d83c"
      },
      "source": [
        "#13. remove\n",
        "var_a = {'apple','banana','grapes','mango'}\n",
        "\n",
        "var_a.remove('banana')\n",
        "print(var_a)"
      ],
      "execution_count": 61,
      "outputs": [
        {
          "output_type": "stream",
          "name": "stdout",
          "text": [
            "{'mango', 'apple', 'grapes'}\n"
          ]
        }
      ]
    },
    {
      "cell_type": "code",
      "metadata": {
        "colab": {
          "base_uri": "https://localhost:8080/"
        },
        "id": "dwkiP4U8_M2I",
        "outputId": "5ddf37ab-96a5-467a-d951-197fc894d53a"
      },
      "source": [
        "#14. symmetric difference\n",
        "var_a = {1,2,3,4,5,6,7,8,9}\n",
        "var_b = {5,6,7,8,9,10,11,12,13,14}\n",
        "print(var_a.symmetric_difference(var_b))#it removes the repeated value\n"
      ],
      "execution_count": 62,
      "outputs": [
        {
          "output_type": "stream",
          "name": "stdout",
          "text": [
            "{1, 2, 3, 4, 10, 11, 12, 13, 14}\n"
          ]
        }
      ]
    },
    {
      "cell_type": "code",
      "metadata": {
        "colab": {
          "base_uri": "https://localhost:8080/"
        },
        "id": "C2Ioz-hP_umy",
        "outputId": "5e970b54-dc2e-487c-829d-6de7cc506a0b"
      },
      "source": [
        "#15. symmetric difference update\n",
        "var_a = {1,2,3,4,5,6,7,8,9}\n",
        "var_b = {5,6,7,8,9,10,11,12,13,14}\n",
        "var_a.symmetric_difference_update(var_b)# it removes the repeated value from var_a and put the non repeated value from var_b to var_a\n",
        "print(var_a)\n",
        "print(var_b)"
      ],
      "execution_count": 69,
      "outputs": [
        {
          "output_type": "stream",
          "name": "stdout",
          "text": [
            "{1, 2, 3, 4, 10, 11, 12, 13, 14}\n",
            "{5, 6, 7, 8, 9, 10, 11, 12, 13, 14}\n"
          ]
        }
      ]
    },
    {
      "cell_type": "code",
      "metadata": {
        "colab": {
          "base_uri": "https://localhost:8080/"
        },
        "id": "BMXXevdfA2RA",
        "outputId": "c29ac4bc-41b6-483e-9494-712bf9d1ca4e"
      },
      "source": [
        "#16. union\n",
        "var_a = {1,2,3,4,5,6,7,8,9}\n",
        "var_b = {5,6,7,8,9,10,11,12,13,14}\n",
        "print(var_a.union(var_b))# it will shows the all value from var_a and var_b without repeating"
      ],
      "execution_count": 70,
      "outputs": [
        {
          "output_type": "stream",
          "name": "stdout",
          "text": [
            "{1, 2, 3, 4, 5, 6, 7, 8, 9, 10, 11, 12, 13, 14}\n"
          ]
        }
      ]
    },
    {
      "cell_type": "code",
      "metadata": {
        "colab": {
          "base_uri": "https://localhost:8080/"
        },
        "id": "JCnXP91lBT3G",
        "outputId": "87d4e05e-a038-43f6-c4d2-621d785c7aef"
      },
      "source": [
        "#17. update\n",
        "var_a = {1,2,3,4,5,6,7,8,9}\n",
        "var_b = {5,6,7,8,9,10,11,12,13,14}\n",
        "var_a.update(var_b)\n",
        "print(var_a)# it gives the all the values from var_a and var_b without repeating in var_a\n",
        "print(var_b)# it print var_b as it is as a update "
      ],
      "execution_count": 73,
      "outputs": [
        {
          "output_type": "stream",
          "name": "stdout",
          "text": [
            "{1, 2, 3, 4, 5, 6, 7, 8, 9, 10, 11, 12, 13, 14}\n",
            "{5, 6, 7, 8, 9, 10, 11, 12, 13, 14}\n"
          ]
        }
      ]
    }
  ]
}