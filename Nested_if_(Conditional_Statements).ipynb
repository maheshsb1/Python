{
  "nbformat": 4,
  "nbformat_minor": 0,
  "metadata": {
    "colab": {
      "name": "Nested if (Conditional Statements)",
      "provenance": [],
      "authorship_tag": "ABX9TyOOuXw9rVrT4+9jx20DoUXq",
      "include_colab_link": true
    },
    "kernelspec": {
      "name": "python3",
      "display_name": "Python 3"
    },
    "language_info": {
      "name": "python"
    }
  },
  "cells": [
    {
      "cell_type": "markdown",
      "metadata": {
        "id": "view-in-github",
        "colab_type": "text"
      },
      "source": [
        "<a href=\"https://colab.research.google.com/github/maheshsb1/Python/blob/Python-Conditional-Statements/Nested_if_(Conditional_Statements).ipynb\" target=\"_parent\"><img src=\"https://colab.research.google.com/assets/colab-badge.svg\" alt=\"Open In Colab\"/></a>"
      ]
    },
    {
      "cell_type": "code",
      "metadata": {
        "colab": {
          "base_uri": "https://localhost:8080/"
        },
        "id": "iisYuhu3jbgd",
        "outputId": "b454d327-5f69-4550-fb5a-52cc727ffecd"
      },
      "source": [
        "#Nested if (Conditional Statements)\n",
        "\n",
        "a=50\n",
        "if(a<100):\n",
        "  print('a<100 Satisfy')\n",
        "  if(a<80):\n",
        "    print('a<80 Satisfy')\n",
        "    if(a<60):\n",
        "      print('a<60 Satisfy')\n",
        "      if(a<50):\n",
        "        print('a<50 satisfy')\n",
        "      else:\n",
        "        print('a<50 not satisfy')\n",
        "    else:\n",
        "      print('a<60 not Satisfy')\n",
        "  else:\n",
        "     print('a<80 not Satisfy')    \n",
        "else:\n",
        "  print('a<100 not Satisfy')       "
      ],
      "execution_count": 2,
      "outputs": [
        {
          "output_type": "stream",
          "name": "stdout",
          "text": [
            "a<100 Satisfy\n",
            "a<80 Satisfy\n",
            "a<60 Satisfy\n",
            "a<50 not satisfy\n"
          ]
        }
      ]
    }
  ]
}