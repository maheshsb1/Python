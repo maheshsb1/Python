{
  "nbformat": 4,
  "nbformat_minor": 0,
  "metadata": {
    "colab": {
      "name": "Python Conditional Statements",
      "provenance": [],
      "authorship_tag": "ABX9TyMzxBKYZrZzz67oX1qGtOyG",
      "include_colab_link": true
    },
    "kernelspec": {
      "name": "python3",
      "display_name": "Python 3"
    },
    "language_info": {
      "name": "python"
    }
  },
  "cells": [
    {
      "cell_type": "markdown",
      "metadata": {
        "id": "view-in-github",
        "colab_type": "text"
      },
      "source": [
        "<a href=\"https://colab.research.google.com/github/maheshsb1/Python/blob/Python-Conditional-Statements/Python_Conditional_Statements.ipynb\" target=\"_parent\"><img src=\"https://colab.research.google.com/assets/colab-badge.svg\" alt=\"Open In Colab\"/></a>"
      ]
    },
    {
      "cell_type": "markdown",
      "metadata": {
        "id": "QUQGZW_veaiD"
      },
      "source": [
        "#Python Conditional Statements\n",
        "if, if else, if elif else"
      ]
    },
    {
      "cell_type": "code",
      "metadata": {
        "colab": {
          "base_uri": "https://localhost:8080/"
        },
        "id": "QIb6yz2AeZ8k",
        "outputId": "cee76984-f842-44b5-a014-0f8043c555dd"
      },
      "source": [
        "\n",
        "#if\n",
        "a = 10\n",
        "b = 20\n",
        "\n",
        "if (a < b):\n",
        "  print(\" b is greater \")\n",
        "\n",
        "if( (a<15) & (b>15)):\n",
        "  print(\"condition follows\") \n",
        "\n",
        "if((a<15)| (b<15)):\n",
        "   print(\"condition follows\") \n",
        "\n",
        "   if((a<15) & (b<15)):\n",
        "     print(\"condition follows\")   #o/p is blank"
      ],
      "execution_count": 6,
      "outputs": [
        {
          "output_type": "stream",
          "name": "stdout",
          "text": [
            " b is greater \n",
            "condition follows\n",
            "condition follows\n"
          ]
        }
      ]
    },
    {
      "cell_type": "code",
      "metadata": {
        "colab": {
          "base_uri": "https://localhost:8080/"
        },
        "id": "2AZZPG-qeFvK",
        "outputId": "c8db13bc-bc2d-4cfa-a61b-5a7e72b6dad9"
      },
      "source": [
        "# if else\n",
        "a = 15\n",
        "b = 25\n",
        "\n",
        "if (a > b):\n",
        "  print(\"a is greater than b\")\n",
        "else:\n",
        "  print(\"b is greater than a\")\n",
        "\n",
        "  if ((a>10)&(b<50)):\n",
        "    print(\"Condition Follows\")\n",
        "  else:\n",
        "    print(\"Condition not Follows\")  \n",
        "\n",
        "\n",
        "  if ((a>20)&(b<50)):\n",
        "    print(\"Condition Follows\")\n",
        "  else:\n",
        "    print(\"Condition not Follows\")\n",
        "\n",
        "  if ((a>20)|(b<50)):\n",
        "    print(\"Condition Follows\")\n",
        "  else:\n",
        "    print(\"Condition not Follows\")    \n",
        "\n",
        "  if ((a>10)^(b<50)):\n",
        "    print(\"Condition Follows\")\n",
        "  else:\n",
        "    print(\"Condition not Follows\")    \n",
        "\n",
        "  if ((a>17)^(b<50)):\n",
        "    print(\"Condition Follows\")\n",
        "  else:\n",
        "    print(\"Condition not Follows\")    "
      ],
      "execution_count": 12,
      "outputs": [
        {
          "output_type": "stream",
          "name": "stdout",
          "text": [
            "b is greater than a\n",
            "Condition Follows\n",
            "Condition not Follows\n",
            "Condition Follows\n",
            "Condition not Follows\n",
            "Condition Follows\n"
          ]
        }
      ]
    },
    {
      "cell_type": "code",
      "metadata": {
        "colab": {
          "base_uri": "https://localhost:8080/"
        },
        "id": "9GZ9fwq4hpp2",
        "outputId": "d2ab3674-1aa9-4c41-b1a0-46e6b414ff84"
      },
      "source": [
        "#if elif else\n",
        "#1\n",
        "a = 20\n",
        "b = 50\n",
        "\n",
        "if (a > b):\n",
        "  print(\"a is greater\")\n",
        "elif (a == b):\n",
        "  print(\"a & b are equals\")\n",
        "elif (a < b):\n",
        "  print(\"b is greater\")\n",
        "elif (a != b):\n",
        "  print(\"a & b are not equals\")\n",
        "else:\n",
        "  print(\"some thing wrong with values\")  \n",
        "#2\n",
        "a= 'python'\n",
        "b= 'Python'\n",
        "\n",
        "if (a > b):\n",
        "  print(\"a is greater\")\n",
        "elif (a == b):\n",
        "  print(\"a & b are equals\")\n",
        "elif (a < b):\n",
        "  print(\"b is greater\")\n",
        "elif (a != b):\n",
        "  print(\"a & b are not equals\")\n",
        "else:\n",
        "  print(\"some thing wrong with values\")"
      ],
      "execution_count": 16,
      "outputs": [
        {
          "output_type": "stream",
          "name": "stdout",
          "text": [
            "b is greater\n",
            "a is greater\n"
          ]
        }
      ]
    }
  ]
}